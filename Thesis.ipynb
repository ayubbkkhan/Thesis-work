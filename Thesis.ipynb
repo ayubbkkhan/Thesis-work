{
 "cells": [
  {
   "cell_type": "markdown",
   "id": "a620a62f",
   "metadata": {},
   "source": [
    "## Importing Required libraries"
   ]
  },
  {
   "cell_type": "code",
   "execution_count": 1,
   "id": "e0f52cf4",
   "metadata": {},
   "outputs": [],
   "source": [
    "import pandas as pd\n",
    "import numpy as np\n",
    "import seaborn as sns\n",
    "from mpl_toolkits import mplot3d\n",
    "import matplotlib.pyplot as plt    #importing imortant liberaries\n",
    "import warnings\n",
    "warnings.filterwarnings(\"ignore\")\n",
    "%matplotlib inline\n",
    "from sklearn.model_selection import train_test_split\n",
    "pd.set_option('display.max_columns', None)"
   ]
  },
  {
   "cell_type": "markdown",
   "id": "6e4a635d",
   "metadata": {},
   "source": [
    "# Importing Data\n",
    "The data consists of chemical compositions, mechanical properties and treatment temperatures"
   ]
  },
  {
   "cell_type": "code",
   "execution_count": 2,
   "id": "444d1d8d",
   "metadata": {},
   "outputs": [],
   "source": [
    "Data=pd.read_csv(\"D:/Thesis/Data.csv\")"
   ]
  },
  {
   "cell_type": "code",
   "execution_count": 3,
   "id": "176b1fe3",
   "metadata": {},
   "outputs": [
    {
     "data": {
      "text/html": [
       "<div>\n",
       "<style scoped>\n",
       "    .dataframe tbody tr th:only-of-type {\n",
       "        vertical-align: middle;\n",
       "    }\n",
       "\n",
       "    .dataframe tbody tr th {\n",
       "        vertical-align: top;\n",
       "    }\n",
       "\n",
       "    .dataframe thead th {\n",
       "        text-align: right;\n",
       "    }\n",
       "</style>\n",
       "<table border=\"1\" class=\"dataframe\">\n",
       "  <thead>\n",
       "    <tr style=\"text-align: right;\">\n",
       "      <th></th>\n",
       "      <th>Cr</th>\n",
       "      <th>Ni</th>\n",
       "      <th>Mo</th>\n",
       "      <th>Mn</th>\n",
       "      <th>Si</th>\n",
       "      <th>Nb</th>\n",
       "      <th>Ti</th>\n",
       "      <th>Zr</th>\n",
       "      <th>Ta</th>\n",
       "      <th>V</th>\n",
       "      <th>W</th>\n",
       "      <th>Cu</th>\n",
       "      <th>N</th>\n",
       "      <th>C</th>\n",
       "      <th>B</th>\n",
       "      <th>P</th>\n",
       "      <th>S</th>\n",
       "      <th>Co</th>\n",
       "      <th>Al</th>\n",
       "      <th>Sn</th>\n",
       "      <th>Pb</th>\n",
       "      <th>Solution_treatment_temperature</th>\n",
       "      <th>Solution_treatment_time(s)</th>\n",
       "      <th>Water_Quenched_after_s.t.</th>\n",
       "      <th>Air_Quenched_after_s.t.</th>\n",
       "      <th>Grains mm-2</th>\n",
       "      <th>Type of melting</th>\n",
       "      <th>Size of ingot</th>\n",
       "      <th>Product form</th>\n",
       "      <th>Temperature (K)</th>\n",
       "      <th>0.2%proof_stress (M Pa)</th>\n",
       "      <th>UTS (M Pa)</th>\n",
       "      <th>Elongation (%)</th>\n",
       "      <th>Area_reduction (%)</th>\n",
       "      <th>Comments</th>\n",
       "    </tr>\n",
       "  </thead>\n",
       "  <tbody>\n",
       "    <tr>\n",
       "      <th>0</th>\n",
       "      <td>18.7</td>\n",
       "      <td>10.69</td>\n",
       "      <td>0.47</td>\n",
       "      <td>1.56</td>\n",
       "      <td>0.62</td>\n",
       "      <td>0.01</td>\n",
       "      <td>0.04</td>\n",
       "      <td>0</td>\n",
       "      <td>0</td>\n",
       "      <td>0.0</td>\n",
       "      <td>0.0</td>\n",
       "      <td>0.17</td>\n",
       "      <td>0.031</td>\n",
       "      <td>0.062</td>\n",
       "      <td>0.0007</td>\n",
       "      <td>0.025</td>\n",
       "      <td>0.013</td>\n",
       "      <td>0.0</td>\n",
       "      <td>0.047</td>\n",
       "      <td>0</td>\n",
       "      <td>0</td>\n",
       "      <td>1403</td>\n",
       "      <td>Na</td>\n",
       "      <td>1</td>\n",
       "      <td>0</td>\n",
       "      <td>477.7128917</td>\n",
       "      <td>1</td>\n",
       "      <td>3</td>\n",
       "      <td>1</td>\n",
       "      <td>298</td>\n",
       "      <td>280.0</td>\n",
       "      <td>610.0</td>\n",
       "      <td>67</td>\n",
       "      <td>83</td>\n",
       "      <td>NRIM/CDS/No4B/1986 ABA</td>\n",
       "    </tr>\n",
       "    <tr>\n",
       "      <th>1</th>\n",
       "      <td>18.7</td>\n",
       "      <td>10.69</td>\n",
       "      <td>0.47</td>\n",
       "      <td>1.56</td>\n",
       "      <td>0.62</td>\n",
       "      <td>0.01</td>\n",
       "      <td>0.04</td>\n",
       "      <td>0</td>\n",
       "      <td>0</td>\n",
       "      <td>0.0</td>\n",
       "      <td>0.0</td>\n",
       "      <td>0.17</td>\n",
       "      <td>0.031</td>\n",
       "      <td>0.062</td>\n",
       "      <td>0.0007</td>\n",
       "      <td>0.025</td>\n",
       "      <td>0.013</td>\n",
       "      <td>0.0</td>\n",
       "      <td>0.047</td>\n",
       "      <td>0</td>\n",
       "      <td>0</td>\n",
       "      <td>1403</td>\n",
       "      <td>Na</td>\n",
       "      <td>1</td>\n",
       "      <td>0</td>\n",
       "      <td>477.7128917</td>\n",
       "      <td>1</td>\n",
       "      <td>3</td>\n",
       "      <td>1</td>\n",
       "      <td>373</td>\n",
       "      <td>243.0</td>\n",
       "      <td>508.0</td>\n",
       "      <td>54</td>\n",
       "      <td>83</td>\n",
       "      <td>NRIM/CDS/No4B/1986 ABA</td>\n",
       "    </tr>\n",
       "    <tr>\n",
       "      <th>2</th>\n",
       "      <td>18.7</td>\n",
       "      <td>10.69</td>\n",
       "      <td>0.47</td>\n",
       "      <td>1.56</td>\n",
       "      <td>0.62</td>\n",
       "      <td>0.01</td>\n",
       "      <td>0.04</td>\n",
       "      <td>0</td>\n",
       "      <td>0</td>\n",
       "      <td>0.0</td>\n",
       "      <td>0.0</td>\n",
       "      <td>0.17</td>\n",
       "      <td>0.031</td>\n",
       "      <td>0.062</td>\n",
       "      <td>0.0007</td>\n",
       "      <td>0.025</td>\n",
       "      <td>0.013</td>\n",
       "      <td>0.0</td>\n",
       "      <td>0.047</td>\n",
       "      <td>0</td>\n",
       "      <td>0</td>\n",
       "      <td>1403</td>\n",
       "      <td>Na</td>\n",
       "      <td>1</td>\n",
       "      <td>0</td>\n",
       "      <td>477.7128917</td>\n",
       "      <td>1</td>\n",
       "      <td>3</td>\n",
       "      <td>1</td>\n",
       "      <td>473</td>\n",
       "      <td>220.0</td>\n",
       "      <td>472.0</td>\n",
       "      <td>44</td>\n",
       "      <td>81</td>\n",
       "      <td>NRIM/CDS/No4B/1986 ABA</td>\n",
       "    </tr>\n",
       "    <tr>\n",
       "      <th>3</th>\n",
       "      <td>18.7</td>\n",
       "      <td>10.69</td>\n",
       "      <td>0.47</td>\n",
       "      <td>1.56</td>\n",
       "      <td>0.62</td>\n",
       "      <td>0.01</td>\n",
       "      <td>0.04</td>\n",
       "      <td>0</td>\n",
       "      <td>0</td>\n",
       "      <td>0.0</td>\n",
       "      <td>0.0</td>\n",
       "      <td>0.17</td>\n",
       "      <td>0.031</td>\n",
       "      <td>0.062</td>\n",
       "      <td>0.0007</td>\n",
       "      <td>0.025</td>\n",
       "      <td>0.013</td>\n",
       "      <td>0.0</td>\n",
       "      <td>0.047</td>\n",
       "      <td>0</td>\n",
       "      <td>0</td>\n",
       "      <td>1403</td>\n",
       "      <td>Na</td>\n",
       "      <td>1</td>\n",
       "      <td>0</td>\n",
       "      <td>477.7128917</td>\n",
       "      <td>1</td>\n",
       "      <td>3</td>\n",
       "      <td>1</td>\n",
       "      <td>573</td>\n",
       "      <td>204.0</td>\n",
       "      <td>470.0</td>\n",
       "      <td>43</td>\n",
       "      <td>76</td>\n",
       "      <td>NRIM/CDS/No4B/1986 ABA</td>\n",
       "    </tr>\n",
       "    <tr>\n",
       "      <th>4</th>\n",
       "      <td>18.7</td>\n",
       "      <td>10.69</td>\n",
       "      <td>0.47</td>\n",
       "      <td>1.56</td>\n",
       "      <td>0.62</td>\n",
       "      <td>0.01</td>\n",
       "      <td>0.04</td>\n",
       "      <td>0</td>\n",
       "      <td>0</td>\n",
       "      <td>0.0</td>\n",
       "      <td>0.0</td>\n",
       "      <td>0.17</td>\n",
       "      <td>0.031</td>\n",
       "      <td>0.062</td>\n",
       "      <td>0.0007</td>\n",
       "      <td>0.025</td>\n",
       "      <td>0.013</td>\n",
       "      <td>0.0</td>\n",
       "      <td>0.047</td>\n",
       "      <td>0</td>\n",
       "      <td>0</td>\n",
       "      <td>1403</td>\n",
       "      <td>Na</td>\n",
       "      <td>1</td>\n",
       "      <td>0</td>\n",
       "      <td>477.7128917</td>\n",
       "      <td>1</td>\n",
       "      <td>3</td>\n",
       "      <td>1</td>\n",
       "      <td>673</td>\n",
       "      <td>197.0</td>\n",
       "      <td>470.0</td>\n",
       "      <td>45</td>\n",
       "      <td>76</td>\n",
       "      <td>NRIM/CDS/No4B/1986 ABA</td>\n",
       "    </tr>\n",
       "  </tbody>\n",
       "</table>\n",
       "</div>"
      ],
      "text/plain": [
       "     Cr     Ni    Mo    Mn    Si    Nb    Ti  Zr  Ta    V    W    Cu      N  \\\n",
       "0  18.7  10.69  0.47  1.56  0.62  0.01  0.04   0   0  0.0  0.0  0.17  0.031   \n",
       "1  18.7  10.69  0.47  1.56  0.62  0.01  0.04   0   0  0.0  0.0  0.17  0.031   \n",
       "2  18.7  10.69  0.47  1.56  0.62  0.01  0.04   0   0  0.0  0.0  0.17  0.031   \n",
       "3  18.7  10.69  0.47  1.56  0.62  0.01  0.04   0   0  0.0  0.0  0.17  0.031   \n",
       "4  18.7  10.69  0.47  1.56  0.62  0.01  0.04   0   0  0.0  0.0  0.17  0.031   \n",
       "\n",
       "       C       B      P      S   Co     Al  Sn  Pb  \\\n",
       "0  0.062  0.0007  0.025  0.013  0.0  0.047   0   0   \n",
       "1  0.062  0.0007  0.025  0.013  0.0  0.047   0   0   \n",
       "2  0.062  0.0007  0.025  0.013  0.0  0.047   0   0   \n",
       "3  0.062  0.0007  0.025  0.013  0.0  0.047   0   0   \n",
       "4  0.062  0.0007  0.025  0.013  0.0  0.047   0   0   \n",
       "\n",
       "  Solution_treatment_temperature Solution_treatment_time(s)  \\\n",
       "0                           1403                         Na   \n",
       "1                           1403                         Na   \n",
       "2                           1403                         Na   \n",
       "3                           1403                         Na   \n",
       "4                           1403                         Na   \n",
       "\n",
       "  Water_Quenched_after_s.t. Air_Quenched_after_s.t.  Grains mm-2  \\\n",
       "0                         1                       0  477.7128917   \n",
       "1                         1                       0  477.7128917   \n",
       "2                         1                       0  477.7128917   \n",
       "3                         1                       0  477.7128917   \n",
       "4                         1                       0  477.7128917   \n",
       "\n",
       "  Type of melting Size of ingot  Product form  Temperature (K)  \\\n",
       "0               1             3             1              298   \n",
       "1               1             3             1              373   \n",
       "2               1             3             1              473   \n",
       "3               1             3             1              573   \n",
       "4               1             3             1              673   \n",
       "\n",
       "   0.2%proof_stress (M Pa)  UTS (M Pa) Elongation (%) Area_reduction (%)  \\\n",
       "0                    280.0       610.0             67                 83   \n",
       "1                    243.0       508.0             54                 83   \n",
       "2                    220.0       472.0             44                 81   \n",
       "3                    204.0       470.0             43                 76   \n",
       "4                    197.0       470.0             45                 76   \n",
       "\n",
       "                 Comments  \n",
       "0  NRIM/CDS/No4B/1986 ABA  \n",
       "1  NRIM/CDS/No4B/1986 ABA  \n",
       "2  NRIM/CDS/No4B/1986 ABA  \n",
       "3  NRIM/CDS/No4B/1986 ABA  \n",
       "4  NRIM/CDS/No4B/1986 ABA  "
      ]
     },
     "execution_count": 3,
     "metadata": {},
     "output_type": "execute_result"
    }
   ],
   "source": [
    "Data.head()"
   ]
  },
  {
   "cell_type": "code",
   "execution_count": 4,
   "id": "03f24f33",
   "metadata": {},
   "outputs": [
    {
     "data": {
      "text/plain": [
       "(2180, 35)"
      ]
     },
     "execution_count": 4,
     "metadata": {},
     "output_type": "execute_result"
    }
   ],
   "source": [
    "Data.shape"
   ]
  },
  {
   "cell_type": "markdown",
   "id": "2e9f8881",
   "metadata": {},
   "source": [
    "# Data Preprocessing/EDA"
   ]
  },
  {
   "cell_type": "code",
   "execution_count": 5,
   "id": "9cf1d9b5",
   "metadata": {},
   "outputs": [
    {
     "data": {
      "text/plain": [
       "Index(['Cr', 'Ni', 'Mo', 'Mn', 'Si', 'Nb', 'Ti', 'Zr', 'Ta', 'V', 'W', 'Cu',\n",
       "       'N', 'C', 'B', 'P', 'S', 'Co', 'Al', 'Sn', 'Pb',\n",
       "       'Solution_treatment_temperature', 'Solution_treatment_time(s)',\n",
       "       'Water_Quenched_after_s.t.', 'Air_Quenched_after_s.t.', 'Grains mm-2',\n",
       "       'Type of melting', 'Size of ingot', 'Product form', 'Temperature (K)',\n",
       "       '0.2%proof_stress (M Pa)', 'UTS (M Pa)', 'Elongation (%)',\n",
       "       'Area_reduction (%)', 'Comments'],\n",
       "      dtype='object')"
      ]
     },
     "execution_count": 5,
     "metadata": {},
     "output_type": "execute_result"
    }
   ],
   "source": [
    "Data.columns"
   ]
  },
  {
   "cell_type": "markdown",
   "id": "91f762e3",
   "metadata": {},
   "source": [
    "Removing Columns which are not required"
   ]
  },
  {
   "cell_type": "code",
   "execution_count": 6,
   "id": "4a03accb",
   "metadata": {},
   "outputs": [],
   "source": [
    "Data.drop(['Solution_treatment_temperature', 'Solution_treatment_time(s)',\n",
    "       'Water_Quenched_after_s.t.', 'Air_Quenched_after_s.t.','Type of melting', 'Size of ingot', 'Product form', 'Area_reduction (%)', \n",
    "           'Comments' ],axis=1,inplace=True)"
   ]
  },
  {
   "cell_type": "code",
   "execution_count": 7,
   "id": "10e04701",
   "metadata": {},
   "outputs": [
    {
     "data": {
      "text/html": [
       "<div>\n",
       "<style scoped>\n",
       "    .dataframe tbody tr th:only-of-type {\n",
       "        vertical-align: middle;\n",
       "    }\n",
       "\n",
       "    .dataframe tbody tr th {\n",
       "        vertical-align: top;\n",
       "    }\n",
       "\n",
       "    .dataframe thead th {\n",
       "        text-align: right;\n",
       "    }\n",
       "</style>\n",
       "<table border=\"1\" class=\"dataframe\">\n",
       "  <thead>\n",
       "    <tr style=\"text-align: right;\">\n",
       "      <th></th>\n",
       "      <th>Cr</th>\n",
       "      <th>Ni</th>\n",
       "      <th>Mo</th>\n",
       "      <th>Mn</th>\n",
       "      <th>Si</th>\n",
       "      <th>Nb</th>\n",
       "      <th>Ti</th>\n",
       "      <th>Zr</th>\n",
       "      <th>Ta</th>\n",
       "      <th>V</th>\n",
       "      <th>W</th>\n",
       "      <th>Cu</th>\n",
       "      <th>N</th>\n",
       "      <th>C</th>\n",
       "      <th>B</th>\n",
       "      <th>P</th>\n",
       "      <th>S</th>\n",
       "      <th>Co</th>\n",
       "      <th>Al</th>\n",
       "      <th>Sn</th>\n",
       "      <th>Pb</th>\n",
       "      <th>Grains mm-2</th>\n",
       "      <th>Temperature (K)</th>\n",
       "      <th>0.2%proof_stress (M Pa)</th>\n",
       "      <th>UTS (M Pa)</th>\n",
       "      <th>Elongation (%)</th>\n",
       "    </tr>\n",
       "  </thead>\n",
       "  <tbody>\n",
       "    <tr>\n",
       "      <th>0</th>\n",
       "      <td>18.7</td>\n",
       "      <td>10.69</td>\n",
       "      <td>0.47</td>\n",
       "      <td>1.56</td>\n",
       "      <td>0.62</td>\n",
       "      <td>0.01</td>\n",
       "      <td>0.04</td>\n",
       "      <td>0</td>\n",
       "      <td>0</td>\n",
       "      <td>0.0</td>\n",
       "      <td>0.0</td>\n",
       "      <td>0.17</td>\n",
       "      <td>0.031</td>\n",
       "      <td>0.062</td>\n",
       "      <td>0.0007</td>\n",
       "      <td>0.025</td>\n",
       "      <td>0.013</td>\n",
       "      <td>0.0</td>\n",
       "      <td>0.047</td>\n",
       "      <td>0</td>\n",
       "      <td>0</td>\n",
       "      <td>477.7128917</td>\n",
       "      <td>298</td>\n",
       "      <td>280.0</td>\n",
       "      <td>610.0</td>\n",
       "      <td>67</td>\n",
       "    </tr>\n",
       "    <tr>\n",
       "      <th>1</th>\n",
       "      <td>18.7</td>\n",
       "      <td>10.69</td>\n",
       "      <td>0.47</td>\n",
       "      <td>1.56</td>\n",
       "      <td>0.62</td>\n",
       "      <td>0.01</td>\n",
       "      <td>0.04</td>\n",
       "      <td>0</td>\n",
       "      <td>0</td>\n",
       "      <td>0.0</td>\n",
       "      <td>0.0</td>\n",
       "      <td>0.17</td>\n",
       "      <td>0.031</td>\n",
       "      <td>0.062</td>\n",
       "      <td>0.0007</td>\n",
       "      <td>0.025</td>\n",
       "      <td>0.013</td>\n",
       "      <td>0.0</td>\n",
       "      <td>0.047</td>\n",
       "      <td>0</td>\n",
       "      <td>0</td>\n",
       "      <td>477.7128917</td>\n",
       "      <td>373</td>\n",
       "      <td>243.0</td>\n",
       "      <td>508.0</td>\n",
       "      <td>54</td>\n",
       "    </tr>\n",
       "    <tr>\n",
       "      <th>2</th>\n",
       "      <td>18.7</td>\n",
       "      <td>10.69</td>\n",
       "      <td>0.47</td>\n",
       "      <td>1.56</td>\n",
       "      <td>0.62</td>\n",
       "      <td>0.01</td>\n",
       "      <td>0.04</td>\n",
       "      <td>0</td>\n",
       "      <td>0</td>\n",
       "      <td>0.0</td>\n",
       "      <td>0.0</td>\n",
       "      <td>0.17</td>\n",
       "      <td>0.031</td>\n",
       "      <td>0.062</td>\n",
       "      <td>0.0007</td>\n",
       "      <td>0.025</td>\n",
       "      <td>0.013</td>\n",
       "      <td>0.0</td>\n",
       "      <td>0.047</td>\n",
       "      <td>0</td>\n",
       "      <td>0</td>\n",
       "      <td>477.7128917</td>\n",
       "      <td>473</td>\n",
       "      <td>220.0</td>\n",
       "      <td>472.0</td>\n",
       "      <td>44</td>\n",
       "    </tr>\n",
       "    <tr>\n",
       "      <th>3</th>\n",
       "      <td>18.7</td>\n",
       "      <td>10.69</td>\n",
       "      <td>0.47</td>\n",
       "      <td>1.56</td>\n",
       "      <td>0.62</td>\n",
       "      <td>0.01</td>\n",
       "      <td>0.04</td>\n",
       "      <td>0</td>\n",
       "      <td>0</td>\n",
       "      <td>0.0</td>\n",
       "      <td>0.0</td>\n",
       "      <td>0.17</td>\n",
       "      <td>0.031</td>\n",
       "      <td>0.062</td>\n",
       "      <td>0.0007</td>\n",
       "      <td>0.025</td>\n",
       "      <td>0.013</td>\n",
       "      <td>0.0</td>\n",
       "      <td>0.047</td>\n",
       "      <td>0</td>\n",
       "      <td>0</td>\n",
       "      <td>477.7128917</td>\n",
       "      <td>573</td>\n",
       "      <td>204.0</td>\n",
       "      <td>470.0</td>\n",
       "      <td>43</td>\n",
       "    </tr>\n",
       "    <tr>\n",
       "      <th>4</th>\n",
       "      <td>18.7</td>\n",
       "      <td>10.69</td>\n",
       "      <td>0.47</td>\n",
       "      <td>1.56</td>\n",
       "      <td>0.62</td>\n",
       "      <td>0.01</td>\n",
       "      <td>0.04</td>\n",
       "      <td>0</td>\n",
       "      <td>0</td>\n",
       "      <td>0.0</td>\n",
       "      <td>0.0</td>\n",
       "      <td>0.17</td>\n",
       "      <td>0.031</td>\n",
       "      <td>0.062</td>\n",
       "      <td>0.0007</td>\n",
       "      <td>0.025</td>\n",
       "      <td>0.013</td>\n",
       "      <td>0.0</td>\n",
       "      <td>0.047</td>\n",
       "      <td>0</td>\n",
       "      <td>0</td>\n",
       "      <td>477.7128917</td>\n",
       "      <td>673</td>\n",
       "      <td>197.0</td>\n",
       "      <td>470.0</td>\n",
       "      <td>45</td>\n",
       "    </tr>\n",
       "  </tbody>\n",
       "</table>\n",
       "</div>"
      ],
      "text/plain": [
       "     Cr     Ni    Mo    Mn    Si    Nb    Ti  Zr  Ta    V    W    Cu      N  \\\n",
       "0  18.7  10.69  0.47  1.56  0.62  0.01  0.04   0   0  0.0  0.0  0.17  0.031   \n",
       "1  18.7  10.69  0.47  1.56  0.62  0.01  0.04   0   0  0.0  0.0  0.17  0.031   \n",
       "2  18.7  10.69  0.47  1.56  0.62  0.01  0.04   0   0  0.0  0.0  0.17  0.031   \n",
       "3  18.7  10.69  0.47  1.56  0.62  0.01  0.04   0   0  0.0  0.0  0.17  0.031   \n",
       "4  18.7  10.69  0.47  1.56  0.62  0.01  0.04   0   0  0.0  0.0  0.17  0.031   \n",
       "\n",
       "       C       B      P      S   Co     Al  Sn  Pb  Grains mm-2  \\\n",
       "0  0.062  0.0007  0.025  0.013  0.0  0.047   0   0  477.7128917   \n",
       "1  0.062  0.0007  0.025  0.013  0.0  0.047   0   0  477.7128917   \n",
       "2  0.062  0.0007  0.025  0.013  0.0  0.047   0   0  477.7128917   \n",
       "3  0.062  0.0007  0.025  0.013  0.0  0.047   0   0  477.7128917   \n",
       "4  0.062  0.0007  0.025  0.013  0.0  0.047   0   0  477.7128917   \n",
       "\n",
       "   Temperature (K)  0.2%proof_stress (M Pa)  UTS (M Pa) Elongation (%)  \n",
       "0              298                    280.0       610.0             67  \n",
       "1              373                    243.0       508.0             54  \n",
       "2              473                    220.0       472.0             44  \n",
       "3              573                    204.0       470.0             43  \n",
       "4              673                    197.0       470.0             45  "
      ]
     },
     "execution_count": 7,
     "metadata": {},
     "output_type": "execute_result"
    }
   ],
   "source": [
    "Data.head(5)"
   ]
  },
  {
   "cell_type": "code",
   "execution_count": 8,
   "id": "a3d96ddf",
   "metadata": {},
   "outputs": [
    {
     "data": {
      "text/html": [
       "<div>\n",
       "<style scoped>\n",
       "    .dataframe tbody tr th:only-of-type {\n",
       "        vertical-align: middle;\n",
       "    }\n",
       "\n",
       "    .dataframe tbody tr th {\n",
       "        vertical-align: top;\n",
       "    }\n",
       "\n",
       "    .dataframe thead th {\n",
       "        text-align: right;\n",
       "    }\n",
       "</style>\n",
       "<table border=\"1\" class=\"dataframe\">\n",
       "  <thead>\n",
       "    <tr style=\"text-align: right;\">\n",
       "      <th></th>\n",
       "      <th>Cr</th>\n",
       "      <th>Ni</th>\n",
       "      <th>Mo</th>\n",
       "      <th>Mn</th>\n",
       "      <th>Si</th>\n",
       "      <th>Nb</th>\n",
       "      <th>Ti</th>\n",
       "      <th>Zr</th>\n",
       "      <th>Ta</th>\n",
       "      <th>V</th>\n",
       "      <th>W</th>\n",
       "      <th>Cu</th>\n",
       "      <th>N</th>\n",
       "      <th>C</th>\n",
       "      <th>B</th>\n",
       "      <th>P</th>\n",
       "      <th>S</th>\n",
       "      <th>Co</th>\n",
       "      <th>Al</th>\n",
       "      <th>Sn</th>\n",
       "      <th>Pb</th>\n",
       "      <th>Temperature (K)</th>\n",
       "      <th>0.2%proof_stress (M Pa)</th>\n",
       "      <th>UTS (M Pa)</th>\n",
       "    </tr>\n",
       "  </thead>\n",
       "  <tbody>\n",
       "    <tr>\n",
       "      <th>count</th>\n",
       "      <td>2180.000000</td>\n",
       "      <td>2180.000000</td>\n",
       "      <td>2180.000000</td>\n",
       "      <td>2180.000000</td>\n",
       "      <td>2180.000000</td>\n",
       "      <td>2180.000000</td>\n",
       "      <td>2180.000000</td>\n",
       "      <td>2180.0</td>\n",
       "      <td>2180.0</td>\n",
       "      <td>2180.000000</td>\n",
       "      <td>2179.0</td>\n",
       "      <td>2180.000000</td>\n",
       "      <td>2180.000000</td>\n",
       "      <td>2180.000000</td>\n",
       "      <td>2180.000000</td>\n",
       "      <td>2180.000000</td>\n",
       "      <td>2180.000000</td>\n",
       "      <td>2180.000000</td>\n",
       "      <td>2180.000000</td>\n",
       "      <td>2180.0</td>\n",
       "      <td>2180.0</td>\n",
       "      <td>2180.000000</td>\n",
       "      <td>2180.000000</td>\n",
       "      <td>2180.000000</td>\n",
       "    </tr>\n",
       "    <tr>\n",
       "      <th>mean</th>\n",
       "      <td>17.808335</td>\n",
       "      <td>12.580528</td>\n",
       "      <td>1.015940</td>\n",
       "      <td>1.463771</td>\n",
       "      <td>0.499528</td>\n",
       "      <td>0.095143</td>\n",
       "      <td>0.145684</td>\n",
       "      <td>0.0</td>\n",
       "      <td>0.0</td>\n",
       "      <td>0.002547</td>\n",
       "      <td>0.0</td>\n",
       "      <td>0.042482</td>\n",
       "      <td>0.006798</td>\n",
       "      <td>0.056881</td>\n",
       "      <td>0.000378</td>\n",
       "      <td>0.021331</td>\n",
       "      <td>0.012847</td>\n",
       "      <td>0.035182</td>\n",
       "      <td>0.031617</td>\n",
       "      <td>0.0</td>\n",
       "      <td>0.0</td>\n",
       "      <td>674.651376</td>\n",
       "      <td>158.521514</td>\n",
       "      <td>433.330996</td>\n",
       "    </tr>\n",
       "    <tr>\n",
       "      <th>std</th>\n",
       "      <td>0.991134</td>\n",
       "      <td>5.152322</td>\n",
       "      <td>1.164922</td>\n",
       "      <td>0.235216</td>\n",
       "      <td>0.140637</td>\n",
       "      <td>0.256143</td>\n",
       "      <td>0.202533</td>\n",
       "      <td>0.0</td>\n",
       "      <td>0.0</td>\n",
       "      <td>0.009969</td>\n",
       "      <td>0.0</td>\n",
       "      <td>0.081307</td>\n",
       "      <td>0.011949</td>\n",
       "      <td>0.014257</td>\n",
       "      <td>0.001039</td>\n",
       "      <td>0.007546</td>\n",
       "      <td>0.007328</td>\n",
       "      <td>0.099834</td>\n",
       "      <td>0.102131</td>\n",
       "      <td>0.0</td>\n",
       "      <td>0.0</td>\n",
       "      <td>233.025431</td>\n",
       "      <td>46.603133</td>\n",
       "      <td>93.726234</td>\n",
       "    </tr>\n",
       "    <tr>\n",
       "      <th>min</th>\n",
       "      <td>15.900000</td>\n",
       "      <td>8.400000</td>\n",
       "      <td>0.000000</td>\n",
       "      <td>0.610000</td>\n",
       "      <td>0.000000</td>\n",
       "      <td>0.000000</td>\n",
       "      <td>0.000000</td>\n",
       "      <td>0.0</td>\n",
       "      <td>0.0</td>\n",
       "      <td>0.000000</td>\n",
       "      <td>0.0</td>\n",
       "      <td>0.000000</td>\n",
       "      <td>0.000000</td>\n",
       "      <td>0.012000</td>\n",
       "      <td>0.000000</td>\n",
       "      <td>0.000000</td>\n",
       "      <td>0.000000</td>\n",
       "      <td>0.000000</td>\n",
       "      <td>0.000000</td>\n",
       "      <td>0.0</td>\n",
       "      <td>0.0</td>\n",
       "      <td>293.000000</td>\n",
       "      <td>35.000000</td>\n",
       "      <td>47.000000</td>\n",
       "    </tr>\n",
       "    <tr>\n",
       "      <th>25%</th>\n",
       "      <td>17.110000</td>\n",
       "      <td>10.430000</td>\n",
       "      <td>0.000000</td>\n",
       "      <td>1.430000</td>\n",
       "      <td>0.400000</td>\n",
       "      <td>0.000000</td>\n",
       "      <td>0.000000</td>\n",
       "      <td>0.0</td>\n",
       "      <td>0.0</td>\n",
       "      <td>0.000000</td>\n",
       "      <td>0.0</td>\n",
       "      <td>0.000000</td>\n",
       "      <td>0.000000</td>\n",
       "      <td>0.050000</td>\n",
       "      <td>0.000000</td>\n",
       "      <td>0.019000</td>\n",
       "      <td>0.007000</td>\n",
       "      <td>0.000000</td>\n",
       "      <td>0.000000</td>\n",
       "      <td>0.0</td>\n",
       "      <td>0.0</td>\n",
       "      <td>473.000000</td>\n",
       "      <td>124.886114</td>\n",
       "      <td>393.811666</td>\n",
       "    </tr>\n",
       "    <tr>\n",
       "      <th>50%</th>\n",
       "      <td>17.700000</td>\n",
       "      <td>11.600000</td>\n",
       "      <td>0.110000</td>\n",
       "      <td>1.520000</td>\n",
       "      <td>0.490000</td>\n",
       "      <td>0.000000</td>\n",
       "      <td>0.014000</td>\n",
       "      <td>0.0</td>\n",
       "      <td>0.0</td>\n",
       "      <td>0.000000</td>\n",
       "      <td>0.0</td>\n",
       "      <td>0.000000</td>\n",
       "      <td>0.000000</td>\n",
       "      <td>0.055000</td>\n",
       "      <td>0.000000</td>\n",
       "      <td>0.023000</td>\n",
       "      <td>0.012000</td>\n",
       "      <td>0.000000</td>\n",
       "      <td>0.000000</td>\n",
       "      <td>0.0</td>\n",
       "      <td>0.0</td>\n",
       "      <td>673.000000</td>\n",
       "      <td>151.022410</td>\n",
       "      <td>439.000000</td>\n",
       "    </tr>\n",
       "    <tr>\n",
       "      <th>75%</th>\n",
       "      <td>18.200000</td>\n",
       "      <td>12.210000</td>\n",
       "      <td>2.370000</td>\n",
       "      <td>1.610000</td>\n",
       "      <td>0.590000</td>\n",
       "      <td>0.010000</td>\n",
       "      <td>0.390000</td>\n",
       "      <td>0.0</td>\n",
       "      <td>0.0</td>\n",
       "      <td>0.000000</td>\n",
       "      <td>0.0</td>\n",
       "      <td>0.060000</td>\n",
       "      <td>0.012000</td>\n",
       "      <td>0.065000</td>\n",
       "      <td>0.000300</td>\n",
       "      <td>0.025000</td>\n",
       "      <td>0.018000</td>\n",
       "      <td>0.000000</td>\n",
       "      <td>0.010000</td>\n",
       "      <td>0.0</td>\n",
       "      <td>0.0</td>\n",
       "      <td>873.000000</td>\n",
       "      <td>186.000000</td>\n",
       "      <td>484.000000</td>\n",
       "    </tr>\n",
       "    <tr>\n",
       "      <th>max</th>\n",
       "      <td>21.060000</td>\n",
       "      <td>34.450000</td>\n",
       "      <td>2.910000</td>\n",
       "      <td>1.820000</td>\n",
       "      <td>1.150000</td>\n",
       "      <td>0.950000</td>\n",
       "      <td>0.560000</td>\n",
       "      <td>0.0</td>\n",
       "      <td>0.0</td>\n",
       "      <td>0.057000</td>\n",
       "      <td>0.0</td>\n",
       "      <td>0.350000</td>\n",
       "      <td>0.081000</td>\n",
       "      <td>0.120000</td>\n",
       "      <td>0.015000</td>\n",
       "      <td>0.040000</td>\n",
       "      <td>0.050000</td>\n",
       "      <td>0.540000</td>\n",
       "      <td>0.520000</td>\n",
       "      <td>0.0</td>\n",
       "      <td>0.0</td>\n",
       "      <td>1273.000000</td>\n",
       "      <td>341.271420</td>\n",
       "      <td>713.924120</td>\n",
       "    </tr>\n",
       "  </tbody>\n",
       "</table>\n",
       "</div>"
      ],
      "text/plain": [
       "                Cr           Ni           Mo           Mn           Si  \\\n",
       "count  2180.000000  2180.000000  2180.000000  2180.000000  2180.000000   \n",
       "mean     17.808335    12.580528     1.015940     1.463771     0.499528   \n",
       "std       0.991134     5.152322     1.164922     0.235216     0.140637   \n",
       "min      15.900000     8.400000     0.000000     0.610000     0.000000   \n",
       "25%      17.110000    10.430000     0.000000     1.430000     0.400000   \n",
       "50%      17.700000    11.600000     0.110000     1.520000     0.490000   \n",
       "75%      18.200000    12.210000     2.370000     1.610000     0.590000   \n",
       "max      21.060000    34.450000     2.910000     1.820000     1.150000   \n",
       "\n",
       "                Nb           Ti      Zr      Ta            V       W  \\\n",
       "count  2180.000000  2180.000000  2180.0  2180.0  2180.000000  2179.0   \n",
       "mean      0.095143     0.145684     0.0     0.0     0.002547     0.0   \n",
       "std       0.256143     0.202533     0.0     0.0     0.009969     0.0   \n",
       "min       0.000000     0.000000     0.0     0.0     0.000000     0.0   \n",
       "25%       0.000000     0.000000     0.0     0.0     0.000000     0.0   \n",
       "50%       0.000000     0.014000     0.0     0.0     0.000000     0.0   \n",
       "75%       0.010000     0.390000     0.0     0.0     0.000000     0.0   \n",
       "max       0.950000     0.560000     0.0     0.0     0.057000     0.0   \n",
       "\n",
       "                Cu            N            C            B            P  \\\n",
       "count  2180.000000  2180.000000  2180.000000  2180.000000  2180.000000   \n",
       "mean      0.042482     0.006798     0.056881     0.000378     0.021331   \n",
       "std       0.081307     0.011949     0.014257     0.001039     0.007546   \n",
       "min       0.000000     0.000000     0.012000     0.000000     0.000000   \n",
       "25%       0.000000     0.000000     0.050000     0.000000     0.019000   \n",
       "50%       0.000000     0.000000     0.055000     0.000000     0.023000   \n",
       "75%       0.060000     0.012000     0.065000     0.000300     0.025000   \n",
       "max       0.350000     0.081000     0.120000     0.015000     0.040000   \n",
       "\n",
       "                 S           Co           Al      Sn      Pb  Temperature (K)  \\\n",
       "count  2180.000000  2180.000000  2180.000000  2180.0  2180.0      2180.000000   \n",
       "mean      0.012847     0.035182     0.031617     0.0     0.0       674.651376   \n",
       "std       0.007328     0.099834     0.102131     0.0     0.0       233.025431   \n",
       "min       0.000000     0.000000     0.000000     0.0     0.0       293.000000   \n",
       "25%       0.007000     0.000000     0.000000     0.0     0.0       473.000000   \n",
       "50%       0.012000     0.000000     0.000000     0.0     0.0       673.000000   \n",
       "75%       0.018000     0.000000     0.010000     0.0     0.0       873.000000   \n",
       "max       0.050000     0.540000     0.520000     0.0     0.0      1273.000000   \n",
       "\n",
       "       0.2%proof_stress (M Pa)   UTS (M Pa)  \n",
       "count              2180.000000  2180.000000  \n",
       "mean                158.521514   433.330996  \n",
       "std                  46.603133    93.726234  \n",
       "min                  35.000000    47.000000  \n",
       "25%                 124.886114   393.811666  \n",
       "50%                 151.022410   439.000000  \n",
       "75%                 186.000000   484.000000  \n",
       "max                 341.271420   713.924120  "
      ]
     },
     "execution_count": 8,
     "metadata": {},
     "output_type": "execute_result"
    }
   ],
   "source": [
    "Data.describe()"
   ]
  },
  {
   "cell_type": "markdown",
   "id": "5d0322dc",
   "metadata": {},
   "source": [
    "checking if there are any null values"
   ]
  },
  {
   "cell_type": "code",
   "execution_count": 9,
   "id": "f3028738",
   "metadata": {},
   "outputs": [
    {
     "data": {
      "text/plain": [
       "Cr                         0\n",
       "Ni                         0\n",
       "Mo                         0\n",
       "Mn                         0\n",
       "Si                         0\n",
       "Nb                         0\n",
       "Ti                         0\n",
       "Zr                         0\n",
       "Ta                         0\n",
       "V                          0\n",
       "W                          1\n",
       "Cu                         0\n",
       "N                          0\n",
       "C                          0\n",
       "B                          0\n",
       "P                          0\n",
       "S                          0\n",
       "Co                         0\n",
       "Al                         0\n",
       "Sn                         0\n",
       "Pb                         0\n",
       "Grains mm-2                0\n",
       "Temperature (K)            0\n",
       "0.2%proof_stress (M Pa)    0\n",
       "UTS (M Pa)                 0\n",
       "Elongation (%)             0\n",
       "dtype: int64"
      ]
     },
     "execution_count": 9,
     "metadata": {},
     "output_type": "execute_result"
    }
   ],
   "source": [
    "Data.isnull().sum()"
   ]
  },
  {
   "cell_type": "markdown",
   "id": "1c78562a",
   "metadata": {},
   "source": [
    "Checking for outliers"
   ]
  },
  {
   "cell_type": "code",
   "execution_count": 10,
   "id": "e2c1ba86",
   "metadata": {},
   "outputs": [
    {
     "data": {
      "text/plain": [
       "<AxesSubplot:>"
      ]
     },
     "execution_count": 10,
     "metadata": {},
     "output_type": "execute_result"
    },
    {
     "data": {
      "image/png": "[encoded data removed]",
      "text/plain": [
       "<Figure size 1080x432 with 1 Axes>"
      ]
     },
     "metadata": {
      "needs_background": "light"
     },
     "output_type": "display_data"
    }
   ],
   "source": [
    "Data.boxplot(figsize=(15,6))"
   ]
  },
  {
   "cell_type": "code",
   "execution_count": 11,
   "id": "b904734b",
   "metadata": {},
   "outputs": [],
   "source": [
    "Data.fillna(0,inplace=True)"
   ]
  },
  {
   "cell_type": "code",
   "execution_count": 12,
   "id": "a33ae005",
   "metadata": {},
   "outputs": [
    {
     "data": {
      "text/plain": [
       "Index(['Cr', 'Ni', 'Mo', 'Mn', 'Si', 'Nb', 'Ti', 'Zr', 'Ta', 'V', 'W', 'Cu',\n",
       "       'N', 'C', 'B', 'P', 'S', 'Co', 'Al', 'Sn', 'Pb', 'Grains mm-2',\n",
       "       'Temperature (K)', '0.2%proof_stress (M Pa)', 'UTS (M Pa)',\n",
       "       'Elongation (%)'],\n",
       "      dtype='object')"
      ]
     },
     "execution_count": 12,
     "metadata": {},
     "output_type": "execute_result"
    }
   ],
   "source": [
    "Data.columns"
   ]
  },
  {
   "cell_type": "markdown",
   "id": "be8c7462",
   "metadata": {},
   "source": [
    "# Handling Outliers"
   ]
  },
  {
   "cell_type": "code",
   "execution_count": null,
   "id": "277e59e8",
   "metadata": {},
   "outputs": [],
   "source": []
  },
  {
   "cell_type": "code",
   "execution_count": 13,
   "id": "bf4b3b56",
   "metadata": {},
   "outputs": [],
   "source": [
    "df=Data"
   ]
  },
  {
   "cell_type": "code",
   "execution_count": 14,
   "id": "2695b1aa",
   "metadata": {},
   "outputs": [
    {
     "data": {
      "text/plain": [
       "Index(['Cr', 'Ni', 'Mo', 'Mn', 'Si', 'Nb', 'Ti', 'Zr', 'Ta', 'V', 'W', 'Cu',\n",
       "       'N', 'C', 'B', 'P', 'S', 'Co', 'Al', 'Sn', 'Pb', 'Grains mm-2',\n",
       "       'Temperature (K)', '0.2%proof_stress (M Pa)', 'UTS (M Pa)',\n",
       "       'Elongation (%)'],\n",
       "      dtype='object')"
      ]
     },
     "execution_count": 14,
     "metadata": {},
     "output_type": "execute_result"
    }
   ],
   "source": [
    "df.columns"
   ]
  },
  {
   "cell_type": "markdown",
   "id": "fa02c98e",
   "metadata": {},
   "source": [
    "Dropping Less important columns"
   ]
  },
  {
   "cell_type": "code",
   "execution_count": 15,
   "id": "88e17fcf",
   "metadata": {},
   "outputs": [],
   "source": [
    "df.drop(['Nb', 'Ti', 'Zr', 'Ta', 'V', 'W','B','Co', 'Al', 'Sn', 'Pb'],axis=1,inplace=True)"
   ]
  },
  {
   "cell_type": "code",
   "execution_count": 16,
   "id": "ba663028",
   "metadata": {},
   "outputs": [
    {
     "data": {
      "text/plain": [
       "Index(['Cr', 'Ni', 'Mo', 'Mn', 'Si', 'Cu', 'N', 'C', 'P', 'S', 'Grains mm-2',\n",
       "       'Temperature (K)', '0.2%proof_stress (M Pa)', 'UTS (M Pa)',\n",
       "       'Elongation (%)'],\n",
       "      dtype='object')"
      ]
     },
     "execution_count": 16,
     "metadata": {},
     "output_type": "execute_result"
    }
   ],
   "source": [
    "df.columns"
   ]
  },
  {
   "cell_type": "code",
   "execution_count": 17,
   "id": "fe6f5c9a",
   "metadata": {},
   "outputs": [],
   "source": [
    "df.rename(columns={'Temperature (K)':'Temperature','Elongation (%)':'Elongation','Grains mm-2':'Grain'},inplace=True)"
   ]
  },
  {
   "cell_type": "code",
   "execution_count": 18,
   "id": "86c3c8e7",
   "metadata": {},
   "outputs": [],
   "source": [
    "df['Elongation'] = df['Elongation'].str.replace('([A-Za-z]+)', '')"
   ]
  },
  {
   "cell_type": "code",
   "execution_count": 19,
   "id": "57676d75",
   "metadata": {},
   "outputs": [],
   "source": [
    "df['Elongation_Letter'] = df['Elongation'].str.extract('([A-Za-z]+)')"
   ]
  },
  {
   "cell_type": "code",
   "execution_count": 20,
   "id": "c7da78de",
   "metadata": {},
   "outputs": [
    {
     "data": {
      "text/html": [
       "<div>\n",
       "<style scoped>\n",
       "    .dataframe tbody tr th:only-of-type {\n",
       "        vertical-align: middle;\n",
       "    }\n",
       "\n",
       "    .dataframe tbody tr th {\n",
       "        vertical-align: top;\n",
       "    }\n",
       "\n",
       "    .dataframe thead th {\n",
       "        text-align: right;\n",
       "    }\n",
       "</style>\n",
       "<table border=\"1\" class=\"dataframe\">\n",
       "  <thead>\n",
       "    <tr style=\"text-align: right;\">\n",
       "      <th></th>\n",
       "      <th>Cr</th>\n",
       "      <th>Ni</th>\n",
       "      <th>Mo</th>\n",
       "      <th>Mn</th>\n",
       "      <th>Si</th>\n",
       "      <th>Cu</th>\n",
       "      <th>N</th>\n",
       "      <th>C</th>\n",
       "      <th>P</th>\n",
       "      <th>S</th>\n",
       "      <th>Grain</th>\n",
       "      <th>Temperature</th>\n",
       "      <th>0.2%proof_stress (M Pa)</th>\n",
       "      <th>UTS (M Pa)</th>\n",
       "      <th>Elongation</th>\n",
       "      <th>Elongation_Letter</th>\n",
       "    </tr>\n",
       "  </thead>\n",
       "  <tbody>\n",
       "  </tbody>\n",
       "</table>\n",
       "</div>"
      ],
      "text/plain": [
       "Empty DataFrame\n",
       "Columns: [Cr, Ni, Mo, Mn, Si, Cu, N, C, P, S, Grain, Temperature, 0.2%proof_stress (M Pa), UTS (M Pa), Elongation, Elongation_Letter]\n",
       "Index: []"
      ]
     },
     "execution_count": 20,
     "metadata": {},
     "output_type": "execute_result"
    }
   ],
   "source": [
    "df.head(0)"
   ]
  },
  {
   "cell_type": "code",
   "execution_count": 21,
   "id": "dd150de1",
   "metadata": {},
   "outputs": [
    {
     "data": {
      "text/html": [
       "<div>\n",
       "<style scoped>\n",
       "    .dataframe tbody tr th:only-of-type {\n",
       "        vertical-align: middle;\n",
       "    }\n",
       "\n",
       "    .dataframe tbody tr th {\n",
       "        vertical-align: top;\n",
       "    }\n",
       "\n",
       "    .dataframe thead th {\n",
       "        text-align: right;\n",
       "    }\n",
       "</style>\n",
       "<table border=\"1\" class=\"dataframe\">\n",
       "  <thead>\n",
       "    <tr style=\"text-align: right;\">\n",
       "      <th></th>\n",
       "      <th>Cr</th>\n",
       "      <th>Ni</th>\n",
       "      <th>Mo</th>\n",
       "      <th>Mn</th>\n",
       "      <th>Si</th>\n",
       "      <th>Cu</th>\n",
       "      <th>N</th>\n",
       "      <th>C</th>\n",
       "      <th>P</th>\n",
       "      <th>S</th>\n",
       "      <th>Grain</th>\n",
       "      <th>Temperature</th>\n",
       "      <th>0.2%proof_stress (M Pa)</th>\n",
       "      <th>UTS (M Pa)</th>\n",
       "      <th>Elongation</th>\n",
       "    </tr>\n",
       "  </thead>\n",
       "  <tbody>\n",
       "    <tr>\n",
       "      <th>0</th>\n",
       "      <td>18.7</td>\n",
       "      <td>10.69</td>\n",
       "      <td>0.47</td>\n",
       "      <td>1.56</td>\n",
       "      <td>0.62</td>\n",
       "      <td>0.17</td>\n",
       "      <td>0.031</td>\n",
       "      <td>0.062</td>\n",
       "      <td>0.025</td>\n",
       "      <td>0.013</td>\n",
       "      <td>477.7128917</td>\n",
       "      <td>298</td>\n",
       "      <td>280.000000</td>\n",
       "      <td>610.000000</td>\n",
       "      <td>67</td>\n",
       "    </tr>\n",
       "    <tr>\n",
       "      <th>1</th>\n",
       "      <td>18.7</td>\n",
       "      <td>10.69</td>\n",
       "      <td>0.47</td>\n",
       "      <td>1.56</td>\n",
       "      <td>0.62</td>\n",
       "      <td>0.17</td>\n",
       "      <td>0.031</td>\n",
       "      <td>0.062</td>\n",
       "      <td>0.025</td>\n",
       "      <td>0.013</td>\n",
       "      <td>477.7128917</td>\n",
       "      <td>373</td>\n",
       "      <td>243.000000</td>\n",
       "      <td>508.000000</td>\n",
       "      <td>54</td>\n",
       "    </tr>\n",
       "    <tr>\n",
       "      <th>2</th>\n",
       "      <td>18.7</td>\n",
       "      <td>10.69</td>\n",
       "      <td>0.47</td>\n",
       "      <td>1.56</td>\n",
       "      <td>0.62</td>\n",
       "      <td>0.17</td>\n",
       "      <td>0.031</td>\n",
       "      <td>0.062</td>\n",
       "      <td>0.025</td>\n",
       "      <td>0.013</td>\n",
       "      <td>477.7128917</td>\n",
       "      <td>473</td>\n",
       "      <td>220.000000</td>\n",
       "      <td>472.000000</td>\n",
       "      <td>44</td>\n",
       "    </tr>\n",
       "    <tr>\n",
       "      <th>3</th>\n",
       "      <td>18.7</td>\n",
       "      <td>10.69</td>\n",
       "      <td>0.47</td>\n",
       "      <td>1.56</td>\n",
       "      <td>0.62</td>\n",
       "      <td>0.17</td>\n",
       "      <td>0.031</td>\n",
       "      <td>0.062</td>\n",
       "      <td>0.025</td>\n",
       "      <td>0.013</td>\n",
       "      <td>477.7128917</td>\n",
       "      <td>573</td>\n",
       "      <td>204.000000</td>\n",
       "      <td>470.000000</td>\n",
       "      <td>43</td>\n",
       "    </tr>\n",
       "    <tr>\n",
       "      <th>4</th>\n",
       "      <td>18.7</td>\n",
       "      <td>10.69</td>\n",
       "      <td>0.47</td>\n",
       "      <td>1.56</td>\n",
       "      <td>0.62</td>\n",
       "      <td>0.17</td>\n",
       "      <td>0.031</td>\n",
       "      <td>0.062</td>\n",
       "      <td>0.025</td>\n",
       "      <td>0.013</td>\n",
       "      <td>477.7128917</td>\n",
       "      <td>673</td>\n",
       "      <td>197.000000</td>\n",
       "      <td>470.000000</td>\n",
       "      <td>45</td>\n",
       "    </tr>\n",
       "    <tr>\n",
       "      <th>...</th>\n",
       "      <td>...</td>\n",
       "      <td>...</td>\n",
       "      <td>...</td>\n",
       "      <td>...</td>\n",
       "      <td>...</td>\n",
       "      <td>...</td>\n",
       "      <td>...</td>\n",
       "      <td>...</td>\n",
       "      <td>...</td>\n",
       "      <td>...</td>\n",
       "      <td>...</td>\n",
       "      <td>...</td>\n",
       "      <td>...</td>\n",
       "      <td>...</td>\n",
       "      <td>...</td>\n",
       "    </tr>\n",
       "    <tr>\n",
       "      <th>2175</th>\n",
       "      <td>17.7</td>\n",
       "      <td>12.28</td>\n",
       "      <td>0.00</td>\n",
       "      <td>1.24</td>\n",
       "      <td>0.30</td>\n",
       "      <td>0.00</td>\n",
       "      <td>0.000</td>\n",
       "      <td>0.050</td>\n",
       "      <td>0.019</td>\n",
       "      <td>0.018</td>\n",
       "      <td>Na</td>\n",
       "      <td>723</td>\n",
       "      <td>171.616375</td>\n",
       "      <td>454.047895</td>\n",
       "      <td>34.9</td>\n",
       "    </tr>\n",
       "    <tr>\n",
       "      <th>2176</th>\n",
       "      <td>17.7</td>\n",
       "      <td>12.28</td>\n",
       "      <td>0.00</td>\n",
       "      <td>1.24</td>\n",
       "      <td>0.30</td>\n",
       "      <td>0.00</td>\n",
       "      <td>0.000</td>\n",
       "      <td>0.050</td>\n",
       "      <td>0.019</td>\n",
       "      <td>0.018</td>\n",
       "      <td>Na</td>\n",
       "      <td>773</td>\n",
       "      <td>166.713050</td>\n",
       "      <td>435.415260</td>\n",
       "      <td>33</td>\n",
       "    </tr>\n",
       "    <tr>\n",
       "      <th>2177</th>\n",
       "      <td>17.7</td>\n",
       "      <td>12.28</td>\n",
       "      <td>0.00</td>\n",
       "      <td>1.24</td>\n",
       "      <td>0.30</td>\n",
       "      <td>0.00</td>\n",
       "      <td>0.000</td>\n",
       "      <td>0.050</td>\n",
       "      <td>0.019</td>\n",
       "      <td>0.018</td>\n",
       "      <td>Na</td>\n",
       "      <td>823</td>\n",
       "      <td>169.655045</td>\n",
       "      <td>424.627945</td>\n",
       "      <td>34.2</td>\n",
       "    </tr>\n",
       "    <tr>\n",
       "      <th>2178</th>\n",
       "      <td>17.7</td>\n",
       "      <td>12.28</td>\n",
       "      <td>0.00</td>\n",
       "      <td>1.24</td>\n",
       "      <td>0.30</td>\n",
       "      <td>0.00</td>\n",
       "      <td>0.000</td>\n",
       "      <td>0.050</td>\n",
       "      <td>0.019</td>\n",
       "      <td>0.018</td>\n",
       "      <td>Na</td>\n",
       "      <td>873</td>\n",
       "      <td>168.674380</td>\n",
       "      <td>398.149990</td>\n",
       "      <td>37.6</td>\n",
       "    </tr>\n",
       "    <tr>\n",
       "      <th>2179</th>\n",
       "      <td>17.7</td>\n",
       "      <td>12.28</td>\n",
       "      <td>0.00</td>\n",
       "      <td>1.24</td>\n",
       "      <td>0.30</td>\n",
       "      <td>0.00</td>\n",
       "      <td>0.000</td>\n",
       "      <td>0.050</td>\n",
       "      <td>0.019</td>\n",
       "      <td>0.018</td>\n",
       "      <td>Na</td>\n",
       "      <td>973</td>\n",
       "      <td>139.254430</td>\n",
       "      <td>296.160830</td>\n",
       "      <td>45.4</td>\n",
       "    </tr>\n",
       "  </tbody>\n",
       "</table>\n",
       "<p>2180 rows × 15 columns</p>\n",
       "</div>"
      ],
      "text/plain": [
       "        Cr     Ni    Mo    Mn    Si    Cu      N      C      P      S  \\\n",
       "0     18.7  10.69  0.47  1.56  0.62  0.17  0.031  0.062  0.025  0.013   \n",
       "1     18.7  10.69  0.47  1.56  0.62  0.17  0.031  0.062  0.025  0.013   \n",
       "2     18.7  10.69  0.47  1.56  0.62  0.17  0.031  0.062  0.025  0.013   \n",
       "3     18.7  10.69  0.47  1.56  0.62  0.17  0.031  0.062  0.025  0.013   \n",
       "4     18.7  10.69  0.47  1.56  0.62  0.17  0.031  0.062  0.025  0.013   \n",
       "...    ...    ...   ...   ...   ...   ...    ...    ...    ...    ...   \n",
       "2175  17.7  12.28  0.00  1.24  0.30  0.00  0.000  0.050  0.019  0.018   \n",
       "2176  17.7  12.28  0.00  1.24  0.30  0.00  0.000  0.050  0.019  0.018   \n",
       "2177  17.7  12.28  0.00  1.24  0.30  0.00  0.000  0.050  0.019  0.018   \n",
       "2178  17.7  12.28  0.00  1.24  0.30  0.00  0.000  0.050  0.019  0.018   \n",
       "2179  17.7  12.28  0.00  1.24  0.30  0.00  0.000  0.050  0.019  0.018   \n",
       "\n",
       "            Grain  Temperature  0.2%proof_stress (M Pa)  UTS (M Pa) Elongation  \n",
       "0     477.7128917          298               280.000000  610.000000         67  \n",
       "1     477.7128917          373               243.000000  508.000000         54  \n",
       "2     477.7128917          473               220.000000  472.000000         44  \n",
       "3     477.7128917          573               204.000000  470.000000         43  \n",
       "4     477.7128917          673               197.000000  470.000000         45  \n",
       "...           ...          ...                      ...         ...        ...  \n",
       "2175           Na          723               171.616375  454.047895       34.9  \n",
       "2176           Na          773               166.713050  435.415260         33  \n",
       "2177           Na          823               169.655045  424.627945       34.2  \n",
       "2178           Na          873               168.674380  398.149990       37.6  \n",
       "2179           Na          973               139.254430  296.160830       45.4  \n",
       "\n",
       "[2180 rows x 15 columns]"
      ]
     },
     "execution_count": 21,
     "metadata": {},
     "output_type": "execute_result"
    }
   ],
   "source": [
    "df.drop(['Elongation_Letter'],axis=1)"
   ]
  },
  {
   "cell_type": "markdown",
   "id": "5a61c46c",
   "metadata": {},
   "source": [
    "We encountered one string 'Na'. So checking if it has been removed"
   ]
  },
  {
   "cell_type": "code",
   "execution_count": 22,
   "id": "513ea0ab",
   "metadata": {},
   "outputs": [
    {
     "name": "stdout",
     "output_type": "stream",
     "text": [
      "0\n"
     ]
    }
   ],
   "source": [
    "mel_count=df['Elongation'].str.contains('Na').sum()\n",
    "if mel_count>0:\n",
    "    print (\" {m} \".format(m=mel_count))\n",
    "else:\n",
    "    print('0')"
   ]
  },
  {
   "cell_type": "code",
   "execution_count": 23,
   "id": "1ee0d878",
   "metadata": {},
   "outputs": [],
   "source": [
    "df.replace(r'\\s+', np.nan, regex=True,inplace=True)"
   ]
  },
  {
   "cell_type": "code",
   "execution_count": 24,
   "id": "34d8fbd8",
   "metadata": {},
   "outputs": [
    {
     "data": {
      "text/plain": [
       "Cr                            0\n",
       "Ni                            0\n",
       "Mo                            0\n",
       "Mn                            0\n",
       "Si                            0\n",
       "Cu                            0\n",
       "N                             0\n",
       "C                             0\n",
       "P                             0\n",
       "S                             0\n",
       "Grain                         0\n",
       "Temperature                   0\n",
       "0.2%proof_stress (M Pa)       0\n",
       "UTS (M Pa)                    0\n",
       "Elongation                    0\n",
       "Elongation_Letter          2180\n",
       "dtype: int64"
      ]
     },
     "execution_count": 24,
     "metadata": {},
     "output_type": "execute_result"
    }
   ],
   "source": [
    "df.isnull().sum()"
   ]
  },
  {
   "cell_type": "code",
   "execution_count": 25,
   "id": "f8dbc74a",
   "metadata": {},
   "outputs": [],
   "source": [
    "df.drop(['Elongation_Letter'],axis=1,inplace=True)"
   ]
  },
  {
   "cell_type": "code",
   "execution_count": 26,
   "id": "b7f0bb1b",
   "metadata": {},
   "outputs": [],
   "source": [
    "df.dropna(axis=0,inplace=True)"
   ]
  },
  {
   "cell_type": "code",
   "execution_count": 27,
   "id": "d7fbe502",
   "metadata": {},
   "outputs": [
    {
     "data": {
      "text/plain": [
       "<AxesSubplot:>"
      ]
     },
     "execution_count": 27,
     "metadata": {},
     "output_type": "execute_result"
    },
    {
     "data": {
      "image/png": "[encoded data removed]",
      "text/plain": [
       "<Figure size 1080x432 with 1 Axes>"
      ]
     },
     "metadata": {
      "needs_background": "light"
     },
     "output_type": "display_data"
    }
   ],
   "source": [
    "df.boxplot(figsize=(15,6))"
   ]
  },
  {
   "cell_type": "code",
   "execution_count": 28,
   "id": "5bb8784a",
   "metadata": {},
   "outputs": [
    {
     "data": {
      "text/plain": [
       "(2180, 15)"
      ]
     },
     "execution_count": 28,
     "metadata": {},
     "output_type": "execute_result"
    }
   ],
   "source": [
    "df.shape"
   ]
  },
  {
   "cell_type": "code",
   "execution_count": 29,
   "id": "6f179e47",
   "metadata": {},
   "outputs": [],
   "source": [
    "df.replace({ \"\": np.nan},inplace=True)"
   ]
  },
  {
   "cell_type": "code",
   "execution_count": 30,
   "id": "999b51a7",
   "metadata": {},
   "outputs": [
    {
     "data": {
      "text/plain": [
       "Cr                          0\n",
       "Ni                          0\n",
       "Mo                          0\n",
       "Mn                          0\n",
       "Si                          0\n",
       "Cu                          0\n",
       "N                           0\n",
       "C                           0\n",
       "P                           0\n",
       "S                           0\n",
       "Grain                       0\n",
       "Temperature                 0\n",
       "0.2%proof_stress (M Pa)     0\n",
       "UTS (M Pa)                  0\n",
       "Elongation                 95\n",
       "dtype: int64"
      ]
     },
     "execution_count": 30,
     "metadata": {},
     "output_type": "execute_result"
    }
   ],
   "source": [
    "df.isnull().sum()"
   ]
  },
  {
   "cell_type": "code",
   "execution_count": 31,
   "id": "c441d647",
   "metadata": {},
   "outputs": [],
   "source": [
    "df.dropna(axis=0,inplace=True)"
   ]
  },
  {
   "cell_type": "code",
   "execution_count": 32,
   "id": "9c0dabb5",
   "metadata": {},
   "outputs": [
    {
     "data": {
      "text/plain": [
       "Cr                         0\n",
       "Ni                         0\n",
       "Mo                         0\n",
       "Mn                         0\n",
       "Si                         0\n",
       "Cu                         0\n",
       "N                          0\n",
       "C                          0\n",
       "P                          0\n",
       "S                          0\n",
       "Grain                      0\n",
       "Temperature                0\n",
       "0.2%proof_stress (M Pa)    0\n",
       "UTS (M Pa)                 0\n",
       "Elongation                 0\n",
       "dtype: int64"
      ]
     },
     "execution_count": 32,
     "metadata": {},
     "output_type": "execute_result"
    }
   ],
   "source": [
    "df.isnull().sum()"
   ]
  },
  {
   "cell_type": "code",
   "execution_count": 33,
   "id": "515b355f",
   "metadata": {},
   "outputs": [
    {
     "data": {
      "text/plain": [
       "(2085, 15)"
      ]
     },
     "execution_count": 33,
     "metadata": {},
     "output_type": "execute_result"
    }
   ],
   "source": [
    "df.shape"
   ]
  },
  {
   "cell_type": "code",
   "execution_count": 34,
   "id": "a2e7e58f",
   "metadata": {},
   "outputs": [
    {
     "data": {
      "text/html": [
       "<div>\n",
       "<style scoped>\n",
       "    .dataframe tbody tr th:only-of-type {\n",
       "        vertical-align: middle;\n",
       "    }\n",
       "\n",
       "    .dataframe tbody tr th {\n",
       "        vertical-align: top;\n",
       "    }\n",
       "\n",
       "    .dataframe thead th {\n",
       "        text-align: right;\n",
       "    }\n",
       "</style>\n",
       "<table border=\"1\" class=\"dataframe\">\n",
       "  <thead>\n",
       "    <tr style=\"text-align: right;\">\n",
       "      <th></th>\n",
       "      <th>Cr</th>\n",
       "      <th>Ni</th>\n",
       "      <th>Mo</th>\n",
       "      <th>Mn</th>\n",
       "      <th>Si</th>\n",
       "      <th>Cu</th>\n",
       "      <th>N</th>\n",
       "      <th>C</th>\n",
       "      <th>P</th>\n",
       "      <th>S</th>\n",
       "      <th>Grain</th>\n",
       "      <th>Temperature</th>\n",
       "      <th>0.2%proof_stress (M Pa)</th>\n",
       "      <th>UTS (M Pa)</th>\n",
       "      <th>Elongation</th>\n",
       "    </tr>\n",
       "  </thead>\n",
       "  <tbody>\n",
       "    <tr>\n",
       "      <th>0</th>\n",
       "      <td>18.70</td>\n",
       "      <td>10.69</td>\n",
       "      <td>0.47</td>\n",
       "      <td>1.56</td>\n",
       "      <td>0.62</td>\n",
       "      <td>0.17</td>\n",
       "      <td>0.031</td>\n",
       "      <td>0.062</td>\n",
       "      <td>0.025</td>\n",
       "      <td>0.013</td>\n",
       "      <td>477.7128917</td>\n",
       "      <td>298</td>\n",
       "      <td>280.0</td>\n",
       "      <td>610.0</td>\n",
       "      <td>67</td>\n",
       "    </tr>\n",
       "    <tr>\n",
       "      <th>1</th>\n",
       "      <td>18.70</td>\n",
       "      <td>10.69</td>\n",
       "      <td>0.47</td>\n",
       "      <td>1.56</td>\n",
       "      <td>0.62</td>\n",
       "      <td>0.17</td>\n",
       "      <td>0.031</td>\n",
       "      <td>0.062</td>\n",
       "      <td>0.025</td>\n",
       "      <td>0.013</td>\n",
       "      <td>477.7128917</td>\n",
       "      <td>373</td>\n",
       "      <td>243.0</td>\n",
       "      <td>508.0</td>\n",
       "      <td>54</td>\n",
       "    </tr>\n",
       "    <tr>\n",
       "      <th>2</th>\n",
       "      <td>18.70</td>\n",
       "      <td>10.69</td>\n",
       "      <td>0.47</td>\n",
       "      <td>1.56</td>\n",
       "      <td>0.62</td>\n",
       "      <td>0.17</td>\n",
       "      <td>0.031</td>\n",
       "      <td>0.062</td>\n",
       "      <td>0.025</td>\n",
       "      <td>0.013</td>\n",
       "      <td>477.7128917</td>\n",
       "      <td>473</td>\n",
       "      <td>220.0</td>\n",
       "      <td>472.0</td>\n",
       "      <td>44</td>\n",
       "    </tr>\n",
       "    <tr>\n",
       "      <th>3</th>\n",
       "      <td>18.70</td>\n",
       "      <td>10.69</td>\n",
       "      <td>0.47</td>\n",
       "      <td>1.56</td>\n",
       "      <td>0.62</td>\n",
       "      <td>0.17</td>\n",
       "      <td>0.031</td>\n",
       "      <td>0.062</td>\n",
       "      <td>0.025</td>\n",
       "      <td>0.013</td>\n",
       "      <td>477.7128917</td>\n",
       "      <td>573</td>\n",
       "      <td>204.0</td>\n",
       "      <td>470.0</td>\n",
       "      <td>43</td>\n",
       "    </tr>\n",
       "    <tr>\n",
       "      <th>4</th>\n",
       "      <td>18.70</td>\n",
       "      <td>10.69</td>\n",
       "      <td>0.47</td>\n",
       "      <td>1.56</td>\n",
       "      <td>0.62</td>\n",
       "      <td>0.17</td>\n",
       "      <td>0.031</td>\n",
       "      <td>0.062</td>\n",
       "      <td>0.025</td>\n",
       "      <td>0.013</td>\n",
       "      <td>477.7128917</td>\n",
       "      <td>673</td>\n",
       "      <td>197.0</td>\n",
       "      <td>470.0</td>\n",
       "      <td>45</td>\n",
       "    </tr>\n",
       "    <tr>\n",
       "      <th>...</th>\n",
       "      <td>...</td>\n",
       "      <td>...</td>\n",
       "      <td>...</td>\n",
       "      <td>...</td>\n",
       "      <td>...</td>\n",
       "      <td>...</td>\n",
       "      <td>...</td>\n",
       "      <td>...</td>\n",
       "      <td>...</td>\n",
       "      <td>...</td>\n",
       "      <td>...</td>\n",
       "      <td>...</td>\n",
       "      <td>...</td>\n",
       "      <td>...</td>\n",
       "      <td>...</td>\n",
       "    </tr>\n",
       "    <tr>\n",
       "      <th>658</th>\n",
       "      <td>16.39</td>\n",
       "      <td>10.67</td>\n",
       "      <td>2.11</td>\n",
       "      <td>0.81</td>\n",
       "      <td>0.56</td>\n",
       "      <td>0.27</td>\n",
       "      <td>0.081</td>\n",
       "      <td>0.012</td>\n",
       "      <td>0.024</td>\n",
       "      <td>0.004</td>\n",
       "      <td>548.7480128</td>\n",
       "      <td>873</td>\n",
       "      <td>142.0</td>\n",
       "      <td>393.0</td>\n",
       "      <td>43</td>\n",
       "    </tr>\n",
       "    <tr>\n",
       "      <th>659</th>\n",
       "      <td>16.39</td>\n",
       "      <td>10.67</td>\n",
       "      <td>2.11</td>\n",
       "      <td>0.81</td>\n",
       "      <td>0.56</td>\n",
       "      <td>0.27</td>\n",
       "      <td>0.081</td>\n",
       "      <td>0.012</td>\n",
       "      <td>0.024</td>\n",
       "      <td>0.004</td>\n",
       "      <td>548.7480128</td>\n",
       "      <td>923</td>\n",
       "      <td>155.0</td>\n",
       "      <td>351.0</td>\n",
       "      <td>46</td>\n",
       "    </tr>\n",
       "    <tr>\n",
       "      <th>660</th>\n",
       "      <td>16.39</td>\n",
       "      <td>10.67</td>\n",
       "      <td>2.11</td>\n",
       "      <td>0.81</td>\n",
       "      <td>0.56</td>\n",
       "      <td>0.27</td>\n",
       "      <td>0.081</td>\n",
       "      <td>0.012</td>\n",
       "      <td>0.024</td>\n",
       "      <td>0.004</td>\n",
       "      <td>548.7480128</td>\n",
       "      <td>973</td>\n",
       "      <td>134.0</td>\n",
       "      <td>298.0</td>\n",
       "      <td>61</td>\n",
       "    </tr>\n",
       "    <tr>\n",
       "      <th>661</th>\n",
       "      <td>16.39</td>\n",
       "      <td>10.67</td>\n",
       "      <td>2.11</td>\n",
       "      <td>0.81</td>\n",
       "      <td>0.56</td>\n",
       "      <td>0.27</td>\n",
       "      <td>0.081</td>\n",
       "      <td>0.012</td>\n",
       "      <td>0.024</td>\n",
       "      <td>0.004</td>\n",
       "      <td>548.7480128</td>\n",
       "      <td>1023</td>\n",
       "      <td>129.0</td>\n",
       "      <td>245.0</td>\n",
       "      <td>73</td>\n",
       "    </tr>\n",
       "    <tr>\n",
       "      <th>662</th>\n",
       "      <td>16.39</td>\n",
       "      <td>10.67</td>\n",
       "      <td>2.11</td>\n",
       "      <td>0.81</td>\n",
       "      <td>0.56</td>\n",
       "      <td>0.27</td>\n",
       "      <td>0.081</td>\n",
       "      <td>0.012</td>\n",
       "      <td>0.024</td>\n",
       "      <td>0.004</td>\n",
       "      <td>548.7480128</td>\n",
       "      <td>1073</td>\n",
       "      <td>110.0</td>\n",
       "      <td>197.0</td>\n",
       "      <td>89</td>\n",
       "    </tr>\n",
       "  </tbody>\n",
       "</table>\n",
       "<p>663 rows × 15 columns</p>\n",
       "</div>"
      ],
      "text/plain": [
       "        Cr     Ni    Mo    Mn    Si    Cu      N      C      P      S  \\\n",
       "0    18.70  10.69  0.47  1.56  0.62  0.17  0.031  0.062  0.025  0.013   \n",
       "1    18.70  10.69  0.47  1.56  0.62  0.17  0.031  0.062  0.025  0.013   \n",
       "2    18.70  10.69  0.47  1.56  0.62  0.17  0.031  0.062  0.025  0.013   \n",
       "3    18.70  10.69  0.47  1.56  0.62  0.17  0.031  0.062  0.025  0.013   \n",
       "4    18.70  10.69  0.47  1.56  0.62  0.17  0.031  0.062  0.025  0.013   \n",
       "..     ...    ...   ...   ...   ...   ...    ...    ...    ...    ...   \n",
       "658  16.39  10.67  2.11  0.81  0.56  0.27  0.081  0.012  0.024  0.004   \n",
       "659  16.39  10.67  2.11  0.81  0.56  0.27  0.081  0.012  0.024  0.004   \n",
       "660  16.39  10.67  2.11  0.81  0.56  0.27  0.081  0.012  0.024  0.004   \n",
       "661  16.39  10.67  2.11  0.81  0.56  0.27  0.081  0.012  0.024  0.004   \n",
       "662  16.39  10.67  2.11  0.81  0.56  0.27  0.081  0.012  0.024  0.004   \n",
       "\n",
       "           Grain  Temperature  0.2%proof_stress (M Pa)  UTS (M Pa) Elongation  \n",
       "0    477.7128917          298                    280.0       610.0         67  \n",
       "1    477.7128917          373                    243.0       508.0         54  \n",
       "2    477.7128917          473                    220.0       472.0         44  \n",
       "3    477.7128917          573                    204.0       470.0         43  \n",
       "4    477.7128917          673                    197.0       470.0         45  \n",
       "..           ...          ...                      ...         ...        ...  \n",
       "658  548.7480128          873                    142.0       393.0         43  \n",
       "659  548.7480128          923                    155.0       351.0         46  \n",
       "660  548.7480128          973                    134.0       298.0         61  \n",
       "661  548.7480128         1023                    129.0       245.0         73  \n",
       "662  548.7480128         1073                    110.0       197.0         89  \n",
       "\n",
       "[663 rows x 15 columns]"
      ]
     },
     "execution_count": 34,
     "metadata": {},
     "output_type": "execute_result"
    }
   ],
   "source": [
    "#df[~df.Temperature.str.contains(\"Na\")]\n",
    "df[~df.Grain.str.contains(\"Na\")]"
   ]
  },
  {
   "cell_type": "code",
   "execution_count": 35,
   "id": "c427067f",
   "metadata": {},
   "outputs": [],
   "source": [
    "df.replace({'':np.nan},inplace=True)"
   ]
  },
  {
   "cell_type": "code",
   "execution_count": 36,
   "id": "c0f79eeb",
   "metadata": {},
   "outputs": [],
   "source": [
    "df['Cr'] = pd.to_numeric(df['Cr'], downcast=\"float\")\n",
    "df['Ni'] = pd.to_numeric(df['Ni'], downcast=\"float\")\n",
    "df['Mo'] = pd.to_numeric(df['Mo'], downcast=\"float\")\n",
    "df['Mn'] = pd.to_numeric(df['Mn'], downcast=\"float\")\n",
    "df['P'] = pd.to_numeric(df['P'], downcast=\"float\")\n",
    "df['Si'] = pd.to_numeric(df['Si'], downcast=\"float\")\n",
    "df['Ni'] = pd.to_numeric(df['Ni'], downcast=\"float\")\n",
    "\n",
    "df['Cu'] = pd.to_numeric(df['Cu'], downcast=\"float\")\n",
    "df['C'] = pd.to_numeric(df['C'], downcast=\"float\")\n",
    "df['N'] = pd.to_numeric(df['N'], downcast=\"float\")\n",
    "df['S'] = pd.to_numeric(df['S'], downcast=\"float\")\n",
    "df['Temperature'] = pd.to_numeric(df['Temperature'], downcast=\"float\")\n",
    "df['0.2%proof_stress (M Pa)'] = pd.to_numeric(df['0.2%proof_stress (M Pa)'], downcast=\"float\")\n",
    "df['UTS (M Pa)'] = pd.to_numeric(df['UTS (M Pa)'], downcast=\"float\")\n",
    "df['Elongation'] = pd.to_numeric(df['Elongation'], downcast=\"float\")\n"
   ]
  },
  {
   "cell_type": "code",
   "execution_count": 37,
   "id": "8285f014",
   "metadata": {},
   "outputs": [
    {
     "data": {
      "text/html": [
       "<div>\n",
       "<style scoped>\n",
       "    .dataframe tbody tr th:only-of-type {\n",
       "        vertical-align: middle;\n",
       "    }\n",
       "\n",
       "    .dataframe tbody tr th {\n",
       "        vertical-align: top;\n",
       "    }\n",
       "\n",
       "    .dataframe thead th {\n",
       "        text-align: right;\n",
       "    }\n",
       "</style>\n",
       "<table border=\"1\" class=\"dataframe\">\n",
       "  <thead>\n",
       "    <tr style=\"text-align: right;\">\n",
       "      <th></th>\n",
       "      <th>Cr</th>\n",
       "      <th>Ni</th>\n",
       "      <th>Mo</th>\n",
       "      <th>Mn</th>\n",
       "      <th>Si</th>\n",
       "      <th>Cu</th>\n",
       "      <th>N</th>\n",
       "      <th>C</th>\n",
       "      <th>P</th>\n",
       "      <th>S</th>\n",
       "      <th>Grain</th>\n",
       "      <th>Temperature</th>\n",
       "      <th>0.2%proof_stress (M Pa)</th>\n",
       "      <th>UTS (M Pa)</th>\n",
       "      <th>Elongation</th>\n",
       "    </tr>\n",
       "  </thead>\n",
       "  <tbody>\n",
       "    <tr>\n",
       "      <th>0</th>\n",
       "      <td>18.700001</td>\n",
       "      <td>10.69</td>\n",
       "      <td>0.47</td>\n",
       "      <td>1.56</td>\n",
       "      <td>0.62</td>\n",
       "      <td>0.17</td>\n",
       "      <td>0.031</td>\n",
       "      <td>0.062</td>\n",
       "      <td>0.025</td>\n",
       "      <td>0.013</td>\n",
       "      <td>477.7128917</td>\n",
       "      <td>298.0</td>\n",
       "      <td>280.000000</td>\n",
       "      <td>610.000000</td>\n",
       "      <td>67.000000</td>\n",
       "    </tr>\n",
       "    <tr>\n",
       "      <th>1</th>\n",
       "      <td>18.700001</td>\n",
       "      <td>10.69</td>\n",
       "      <td>0.47</td>\n",
       "      <td>1.56</td>\n",
       "      <td>0.62</td>\n",
       "      <td>0.17</td>\n",
       "      <td>0.031</td>\n",
       "      <td>0.062</td>\n",
       "      <td>0.025</td>\n",
       "      <td>0.013</td>\n",
       "      <td>477.7128917</td>\n",
       "      <td>373.0</td>\n",
       "      <td>243.000000</td>\n",
       "      <td>508.000000</td>\n",
       "      <td>54.000000</td>\n",
       "    </tr>\n",
       "    <tr>\n",
       "      <th>2</th>\n",
       "      <td>18.700001</td>\n",
       "      <td>10.69</td>\n",
       "      <td>0.47</td>\n",
       "      <td>1.56</td>\n",
       "      <td>0.62</td>\n",
       "      <td>0.17</td>\n",
       "      <td>0.031</td>\n",
       "      <td>0.062</td>\n",
       "      <td>0.025</td>\n",
       "      <td>0.013</td>\n",
       "      <td>477.7128917</td>\n",
       "      <td>473.0</td>\n",
       "      <td>220.000000</td>\n",
       "      <td>472.000000</td>\n",
       "      <td>44.000000</td>\n",
       "    </tr>\n",
       "    <tr>\n",
       "      <th>3</th>\n",
       "      <td>18.700001</td>\n",
       "      <td>10.69</td>\n",
       "      <td>0.47</td>\n",
       "      <td>1.56</td>\n",
       "      <td>0.62</td>\n",
       "      <td>0.17</td>\n",
       "      <td>0.031</td>\n",
       "      <td>0.062</td>\n",
       "      <td>0.025</td>\n",
       "      <td>0.013</td>\n",
       "      <td>477.7128917</td>\n",
       "      <td>573.0</td>\n",
       "      <td>204.000000</td>\n",
       "      <td>470.000000</td>\n",
       "      <td>43.000000</td>\n",
       "    </tr>\n",
       "    <tr>\n",
       "      <th>4</th>\n",
       "      <td>18.700001</td>\n",
       "      <td>10.69</td>\n",
       "      <td>0.47</td>\n",
       "      <td>1.56</td>\n",
       "      <td>0.62</td>\n",
       "      <td>0.17</td>\n",
       "      <td>0.031</td>\n",
       "      <td>0.062</td>\n",
       "      <td>0.025</td>\n",
       "      <td>0.013</td>\n",
       "      <td>477.7128917</td>\n",
       "      <td>673.0</td>\n",
       "      <td>197.000000</td>\n",
       "      <td>470.000000</td>\n",
       "      <td>45.000000</td>\n",
       "    </tr>\n",
       "    <tr>\n",
       "      <th>...</th>\n",
       "      <td>...</td>\n",
       "      <td>...</td>\n",
       "      <td>...</td>\n",
       "      <td>...</td>\n",
       "      <td>...</td>\n",
       "      <td>...</td>\n",
       "      <td>...</td>\n",
       "      <td>...</td>\n",
       "      <td>...</td>\n",
       "      <td>...</td>\n",
       "      <td>...</td>\n",
       "      <td>...</td>\n",
       "      <td>...</td>\n",
       "      <td>...</td>\n",
       "      <td>...</td>\n",
       "    </tr>\n",
       "    <tr>\n",
       "      <th>2175</th>\n",
       "      <td>17.700001</td>\n",
       "      <td>12.28</td>\n",
       "      <td>0.00</td>\n",
       "      <td>1.24</td>\n",
       "      <td>0.30</td>\n",
       "      <td>0.00</td>\n",
       "      <td>0.000</td>\n",
       "      <td>0.050</td>\n",
       "      <td>0.019</td>\n",
       "      <td>0.018</td>\n",
       "      <td>Na</td>\n",
       "      <td>723.0</td>\n",
       "      <td>171.616379</td>\n",
       "      <td>454.047882</td>\n",
       "      <td>34.900002</td>\n",
       "    </tr>\n",
       "    <tr>\n",
       "      <th>2176</th>\n",
       "      <td>17.700001</td>\n",
       "      <td>12.28</td>\n",
       "      <td>0.00</td>\n",
       "      <td>1.24</td>\n",
       "      <td>0.30</td>\n",
       "      <td>0.00</td>\n",
       "      <td>0.000</td>\n",
       "      <td>0.050</td>\n",
       "      <td>0.019</td>\n",
       "      <td>0.018</td>\n",
       "      <td>Na</td>\n",
       "      <td>773.0</td>\n",
       "      <td>166.713043</td>\n",
       "      <td>435.415253</td>\n",
       "      <td>33.000000</td>\n",
       "    </tr>\n",
       "    <tr>\n",
       "      <th>2177</th>\n",
       "      <td>17.700001</td>\n",
       "      <td>12.28</td>\n",
       "      <td>0.00</td>\n",
       "      <td>1.24</td>\n",
       "      <td>0.30</td>\n",
       "      <td>0.00</td>\n",
       "      <td>0.000</td>\n",
       "      <td>0.050</td>\n",
       "      <td>0.019</td>\n",
       "      <td>0.018</td>\n",
       "      <td>Na</td>\n",
       "      <td>823.0</td>\n",
       "      <td>169.655045</td>\n",
       "      <td>424.627960</td>\n",
       "      <td>34.200001</td>\n",
       "    </tr>\n",
       "    <tr>\n",
       "      <th>2178</th>\n",
       "      <td>17.700001</td>\n",
       "      <td>12.28</td>\n",
       "      <td>0.00</td>\n",
       "      <td>1.24</td>\n",
       "      <td>0.30</td>\n",
       "      <td>0.00</td>\n",
       "      <td>0.000</td>\n",
       "      <td>0.050</td>\n",
       "      <td>0.019</td>\n",
       "      <td>0.018</td>\n",
       "      <td>Na</td>\n",
       "      <td>873.0</td>\n",
       "      <td>168.674377</td>\n",
       "      <td>398.149994</td>\n",
       "      <td>37.599998</td>\n",
       "    </tr>\n",
       "    <tr>\n",
       "      <th>2179</th>\n",
       "      <td>17.700001</td>\n",
       "      <td>12.28</td>\n",
       "      <td>0.00</td>\n",
       "      <td>1.24</td>\n",
       "      <td>0.30</td>\n",
       "      <td>0.00</td>\n",
       "      <td>0.000</td>\n",
       "      <td>0.050</td>\n",
       "      <td>0.019</td>\n",
       "      <td>0.018</td>\n",
       "      <td>Na</td>\n",
       "      <td>973.0</td>\n",
       "      <td>139.254425</td>\n",
       "      <td>296.160828</td>\n",
       "      <td>45.400002</td>\n",
       "    </tr>\n",
       "  </tbody>\n",
       "</table>\n",
       "<p>2085 rows × 15 columns</p>\n",
       "</div>"
      ],
      "text/plain": [
       "             Cr     Ni    Mo    Mn    Si    Cu      N      C      P      S  \\\n",
       "0     18.700001  10.69  0.47  1.56  0.62  0.17  0.031  0.062  0.025  0.013   \n",
       "1     18.700001  10.69  0.47  1.56  0.62  0.17  0.031  0.062  0.025  0.013   \n",
       "2     18.700001  10.69  0.47  1.56  0.62  0.17  0.031  0.062  0.025  0.013   \n",
       "3     18.700001  10.69  0.47  1.56  0.62  0.17  0.031  0.062  0.025  0.013   \n",
       "4     18.700001  10.69  0.47  1.56  0.62  0.17  0.031  0.062  0.025  0.013   \n",
       "...         ...    ...   ...   ...   ...   ...    ...    ...    ...    ...   \n",
       "2175  17.700001  12.28  0.00  1.24  0.30  0.00  0.000  0.050  0.019  0.018   \n",
       "2176  17.700001  12.28  0.00  1.24  0.30  0.00  0.000  0.050  0.019  0.018   \n",
       "2177  17.700001  12.28  0.00  1.24  0.30  0.00  0.000  0.050  0.019  0.018   \n",
       "2178  17.700001  12.28  0.00  1.24  0.30  0.00  0.000  0.050  0.019  0.018   \n",
       "2179  17.700001  12.28  0.00  1.24  0.30  0.00  0.000  0.050  0.019  0.018   \n",
       "\n",
       "            Grain  Temperature  0.2%proof_stress (M Pa)  UTS (M Pa)  \\\n",
       "0     477.7128917        298.0               280.000000  610.000000   \n",
       "1     477.7128917        373.0               243.000000  508.000000   \n",
       "2     477.7128917        473.0               220.000000  472.000000   \n",
       "3     477.7128917        573.0               204.000000  470.000000   \n",
       "4     477.7128917        673.0               197.000000  470.000000   \n",
       "...           ...          ...                      ...         ...   \n",
       "2175           Na        723.0               171.616379  454.047882   \n",
       "2176           Na        773.0               166.713043  435.415253   \n",
       "2177           Na        823.0               169.655045  424.627960   \n",
       "2178           Na        873.0               168.674377  398.149994   \n",
       "2179           Na        973.0               139.254425  296.160828   \n",
       "\n",
       "      Elongation  \n",
       "0      67.000000  \n",
       "1      54.000000  \n",
       "2      44.000000  \n",
       "3      43.000000  \n",
       "4      45.000000  \n",
       "...          ...  \n",
       "2175   34.900002  \n",
       "2176   33.000000  \n",
       "2177   34.200001  \n",
       "2178   37.599998  \n",
       "2179   45.400002  \n",
       "\n",
       "[2085 rows x 15 columns]"
      ]
     },
     "execution_count": 37,
     "metadata": {},
     "output_type": "execute_result"
    }
   ],
   "source": [
    "df.replace(r'-', np.NaN,inplace=True)\n",
    "df.replace(r'',np.NaN,inplace=True)\n",
    "df.replace(r'*',np.NaN,inplace=True)\n",
    "df.replace(r'&',np.NaN,inplace=True)\n",
    "df.replace(r'^',np.NaN,inplace=True)\n",
    "df.replace(r'%',np.NaN,inplace=True)\n",
    "df.replace(r'$',np.NaN,inplace=True)\n",
    "df.replace(r'#',np.NaN,inplace=True)\n",
    "df.replace(r'@',np.NaN,inplace=True)\n",
    "df.replace(r'!',np.NaN,inplace=True)\n",
    "df.replace(r'<',np.NaN,inplace=True)\n",
    "df.replace(r'>',np.NaN,inplace=True)\n",
    "df.replace(r'?',np.NaN,inplace=True)\n",
    "df.replace(r'\\s+', np.nan, regex=True)\n"
   ]
  },
  {
   "cell_type": "code",
   "execution_count": 38,
   "id": "89c4a5b4",
   "metadata": {},
   "outputs": [],
   "source": [
    "df.drop(['Grain'],axis=1,inplace=True)"
   ]
  },
  {
   "cell_type": "code",
   "execution_count": 39,
   "id": "9438d305",
   "metadata": {},
   "outputs": [
    {
     "data": {
      "text/plain": [
       "Cr                         0\n",
       "Ni                         0\n",
       "Mo                         0\n",
       "Mn                         0\n",
       "Si                         0\n",
       "Cu                         0\n",
       "N                          0\n",
       "C                          0\n",
       "P                          0\n",
       "S                          0\n",
       "Temperature                0\n",
       "0.2%proof_stress (M Pa)    0\n",
       "UTS (M Pa)                 0\n",
       "Elongation                 0\n",
       "dtype: int64"
      ]
     },
     "execution_count": 39,
     "metadata": {},
     "output_type": "execute_result"
    }
   ],
   "source": [
    "df.isnull().sum()"
   ]
  },
  {
   "cell_type": "markdown",
   "id": "44c2bc26",
   "metadata": {},
   "source": [
    "We could not treat outliers of Elongation columns before. \n",
    "So, we are looking if the strings in this columns have been treated successfully"
   ]
  },
  {
   "cell_type": "code",
   "execution_count": 40,
   "id": "ddda1f43",
   "metadata": {},
   "outputs": [],
   "source": [
    "import seaborn as sns\n",
    "from scipy.stats.mstats import winsorize"
   ]
  },
  {
   "cell_type": "code",
   "execution_count": 41,
   "id": "c61c8cad",
   "metadata": {},
   "outputs": [],
   "source": [
    "df['Elongation']=winsorize(Data['Elongation'],limits =[0.03,0.12])"
   ]
  },
  {
   "cell_type": "markdown",
   "id": "d56efdac",
   "metadata": {},
   "source": [
    "# Data Splitting and modelling"
   ]
  },
  {
   "cell_type": "code",
   "execution_count": 42,
   "id": "4845bb7e",
   "metadata": {},
   "outputs": [],
   "source": [
    "X=df[['Cr', 'Ni', 'Mo', 'Mn', 'Si', 'Cu', 'N', 'C', 'P', 'S','Temperature']]\n",
    "y=df[['0.2%proof_stress (M Pa)', 'UTS (M Pa)',\n",
    "       'Elongation']]"
   ]
  },
  {
   "cell_type": "markdown",
   "id": "b13c5416",
   "metadata": {},
   "source": [
    "#### Let's check which model will be more suitable for the dataset\n",
    "Since the problem is to predict three outputs( YS, TS and Elongation). We can use the following algorithms\n",
    "* Extra trees\n",
    "*  K-nn\n",
    "*  Linear regression\n",
    "*  Ridge\n",
    "*  Lasso\n",
    "*  ElasticNet\n",
    "*  RandomForestRegressor\n",
    "*  Decision Tree Regressor\n",
    "*  MultiO/P GradientBoostingRegressor\n",
    "*  MultiO/P AdaBoostRegressor\n",
    "* MultiO/P XgboostRegressor"
   ]
  },
  {
   "cell_type": "code",
   "execution_count": 43,
   "id": "139c30b5",
   "metadata": {},
   "outputs": [],
   "source": [
    "from sklearn.neighbors import KNeighborsRegressor\n",
    "from sklearn.linear_model import Lasso\n",
    "from sklearn.linear_model import ElasticNet\n",
    "from sklearn.linear_model import LinearRegression\n",
    "from sklearn.linear_model import RidgeCV\n",
    "\n",
    "from sklearn.ensemble import ExtraTreesRegressor\n",
    "from sklearn.ensemble import GradientBoostingRegressor\n",
    "from sklearn.ensemble import RandomForestRegressor\n",
    "from sklearn.ensemble import AdaBoostRegressor\n",
    "\n",
    "from sklearn.tree import DecisionTreeRegressor\n",
    "import xgboost as xgb\n",
    "from xgboost import XGBRegressor\n",
    "\n",
    "from sklearn.multioutput import MultiOutputRegressor\n",
    "from sklearn.metrics import mean_squared_error\n"
   ]
  },
  {
   "cell_type": "code",
   "execution_count": 44,
   "id": "ae28e483",
   "metadata": {},
   "outputs": [],
   "source": [
    "from sklearn.model_selection import train_test_split\n",
    "X_train,X_test,y_train,y_test=train_test_split(X,y,test_size=0.1,random_state=10)"
   ]
  },
  {
   "cell_type": "code",
   "execution_count": 45,
   "id": "2947ed30",
   "metadata": {},
   "outputs": [],
   "source": [
    "# Prepare a dictionary of estimators after instantiating each one of them\n",
    "ESTIMATORS = {\n",
    "    \"Extra trees\": ExtraTreesRegressor(random_state=2),\n",
    "    \"K-nn\": KNeighborsRegressor(),                          # Accept default parameters\n",
    "    \"Linear regression\": LinearRegression(),\n",
    "    \"Ridge\": RidgeCV(),\n",
    "    \"Lasso\": Lasso(),\n",
    "    \"ElasticNet\": ElasticNet(random_state=2),\n",
    "    \"RandomForestRegressor\": RandomForestRegressor( random_state=2),\n",
    "    \"Decision Tree Regressor\":DecisionTreeRegressor(random_state=2),\n",
    "    \"MultiO/P GBR\" :MultiOutputRegressor(GradientBoostingRegressor(random_state=2)),\n",
    "    \"MultiO/P AdaB\" :MultiOutputRegressor(AdaBoostRegressor(random_state=2)),\n",
    "    \"multioutputregressor\":MultiOutputRegressor(xgb.XGBRegressor(objective='reg:squarederror',random_state=2))\n",
    "    \n",
    "}"
   ]
  },
  {
   "cell_type": "code",
   "execution_count": 46,
   "id": "22b9da25",
   "metadata": {},
   "outputs": [],
   "source": [
    "# Create an empty dictionary to collect prediction values\n",
    "y_test_predict = dict()\n",
    "y_mse = dict()\n",
    "score=dict()\n",
    "score_train=dict()\n",
    "\n",
    "for name, estimator in ESTIMATORS.items():     \n",
    "    estimator.fit(X_train, y_train)                    # fit() with instantiated object\n",
    "    y_test_predict[name] = estimator.predict(X_test)   # Make predictions and save it in dict under key: name\n",
    "    y_mse[name] = mean_squared_error(y_test, estimator.predict(X_test))\n",
    "    score[name]=estimator.score(X_test,y_test)\n",
    "    score_train[name]=estimator.score(X_train,y_train)\n",
    "    "
   ]
  },
  {
   "cell_type": "code",
   "execution_count": 47,
   "id": "b910c93a",
   "metadata": {},
   "outputs": [
    {
     "data": {
      "text/plain": [
       "{'Extra trees': 0.8229057509592087,\n",
       " 'K-nn': 0.7616292074800944,\n",
       " 'Linear regression': 0.48662797584654766,\n",
       " 'Ridge': 0.49219942979461423,\n",
       " 'Lasso': 0.45416735125265634,\n",
       " 'ElasticNet': 0.4538272617594285,\n",
       " 'RandomForestRegressor': 0.8435472015260609,\n",
       " 'Decision Tree Regressor': 0.7194829036410674,\n",
       " 'MultiO/P GBR': 0.862094891916234,\n",
       " 'MultiO/P AdaB': 0.6376468469420844,\n",
       " 'multioutputregressor': 0.9212546910724484}"
      ]
     },
     "execution_count": 47,
     "metadata": {},
     "output_type": "execute_result"
    }
   ],
   "source": [
    "score"
   ]
  },
  {
   "cell_type": "markdown",
   "id": "1e103d2d",
   "metadata": {},
   "source": [
    "### From the result above, it looks like XGBOOST algorithms perform bettr. So we are choosing xgboost"
   ]
  },
  {
   "cell_type": "code",
   "execution_count": 48,
   "id": "ffc72b03",
   "metadata": {},
   "outputs": [
    {
     "data": {
      "text/plain": [
       "MultiOutputRegressor(estimator=XGBRegressor(base_score=None, booster=None,\n",
       "                                            colsample_bylevel=None,\n",
       "                                            colsample_bynode=None,\n",
       "                                            colsample_bytree=None, gamma=None,\n",
       "                                            gpu_id=None, importance_type='gain',\n",
       "                                            interaction_constraints=None,\n",
       "                                            learning_rate=0.21,\n",
       "                                            max_delta_step=None, max_depth=None,\n",
       "                                            min_child_weight=None, missing=nan,\n",
       "                                            monotone_constraints=None,\n",
       "                                            n_estimators=100, n_jobs=None,\n",
       "                                            num_parallel_tree=None,\n",
       "                                            random_state=42, reg_alpha=None,\n",
       "                                            reg_lambda=None,\n",
       "                                            scale_pos_weight=None,\n",
       "                                            subsample=None, tree_method=None,\n",
       "                                            validate_parameters=None,\n",
       "                                            verbosity=None))"
      ]
     },
     "execution_count": 48,
     "metadata": {},
     "output_type": "execute_result"
    }
   ],
   "source": [
    "import xgboost as xgb\n",
    "from xgboost import XGBRegressor\n",
    "from sklearn.multioutput import MultiOutputRegressor\n",
    "model = MultiOutputRegressor(xgb.XGBRegressor(objective='reg:squarederror',learning_rate=0.21,random_state=42))\n",
    "model.fit(X_train, y_train)\n"
   ]
  },
  {
   "cell_type": "markdown",
   "id": "fb316dd9",
   "metadata": {},
   "source": [
    "# Model Evaluation"
   ]
  },
  {
   "cell_type": "code",
   "execution_count": 49,
   "id": "4b3d279b",
   "metadata": {},
   "outputs": [
    {
     "name": "stdout",
     "output_type": "stream",
     "text": [
      "R2: 0.9262\n"
     ]
    }
   ],
   "source": [
    "r2=model.score(X_test,y_test)\n",
    "print('R2: {:.4f}'.format(r2))"
   ]
  },
  {
   "cell_type": "code",
   "execution_count": 50,
   "id": "1765c968",
   "metadata": {},
   "outputs": [
    {
     "name": "stdout",
     "output_type": "stream",
     "text": [
      "training r2_score\n"
     ]
    },
    {
     "data": {
      "text/plain": [
       "0.9809442801065659"
      ]
     },
     "execution_count": 50,
     "metadata": {},
     "output_type": "execute_result"
    }
   ],
   "source": [
    "print('training r2_score')\n",
    "model.score(X_train,y_train)"
   ]
  },
  {
   "cell_type": "code",
   "execution_count": 51,
   "id": "cc5cc62c",
   "metadata": {},
   "outputs": [
    {
     "name": "stdout",
     "output_type": "stream",
     "text": [
      "RMSE:  11.68\n"
     ]
    }
   ],
   "source": [
    "\n",
    "from sklearn.metrics import mean_squared_error as MSE\n",
    "y_pred=model.predict(X_test)\n",
    "rmse_test = np.sqrt(MSE(y_test, y_pred))\n",
    "print(\"RMSE: \", np.round(rmse_test, 2))"
   ]
  },
  {
   "cell_type": "markdown",
   "id": "5ee4ad1f",
   "metadata": {},
   "source": [
    "### Mean Squared Errors for individual outputs"
   ]
  },
  {
   "cell_type": "code",
   "execution_count": 52,
   "id": "d4a8473b",
   "metadata": {},
   "outputs": [
    {
     "name": "stdout",
     "output_type": "stream",
     "text": [
      "0.2%proof_stress (M Pa)    189.772507\n",
      "UTS (M Pa)                 212.369873\n",
      "Elongation                   7.066259\n",
      "dtype: float32\n"
     ]
    }
   ],
   "source": [
    "print(np.mean((y_test-model.predict(X_test))**2, axis=0))"
   ]
  },
  {
   "cell_type": "markdown",
   "id": "d6eb00bc",
   "metadata": {},
   "source": [
    "### Root Mean Squared Errors for individual outputs"
   ]
  },
  {
   "cell_type": "code",
   "execution_count": 53,
   "id": "7d5852d9",
   "metadata": {},
   "outputs": [
    {
     "name": "stdout",
     "output_type": "stream",
     "text": [
      "0.2%proof_stress (M Pa)    13.775794\n",
      "UTS (M Pa)                 14.572916\n",
      "Elongation                  2.658244\n",
      "dtype: float32\n"
     ]
    }
   ],
   "source": [
    "print(np.sqrt(np.mean((y_test-model.predict(X_test))**2)))\n"
   ]
  },
  {
   "cell_type": "markdown",
   "id": "edcff085",
   "metadata": {},
   "source": [
    "# Visualizing model"
   ]
  },
  {
   "cell_type": "code",
   "execution_count": 54,
   "id": "fda8b3f6",
   "metadata": {},
   "outputs": [
    {
     "data": {
      "image/png": "[encoded data removed]",
      "text/plain": [
       "<Figure size 1080x432 with 1 Axes>"
      ]
     },
     "metadata": {
      "needs_background": "light"
     },
     "output_type": "display_data"
    }
   ],
   "source": [
    "x_ax = range(len(X_test))\n",
    "f, ax = plt.subplots(1, 1, figsize = (15, 6))\n",
    "plt.plot(x_ax, y_test.iloc[:,0],  label=\"YS (MPa)\")\n",
    "plt.plot(x_ax, y_pred[:,0], label=\"YS-pred\")\n",
    "plt.plot(x_ax, y_test.iloc[:,1],label=\"UTS (MPa)\")\n",
    "plt.plot(x_ax, y_pred[:,1], label=\"UTS-pred\")\n",
    "plt.scatter(x_ax, y_test.iloc[:,2],  s=6, label=\"El% on 50mm GL \")\n",
    "plt.plot(x_ax, y_pred[:,2], label=\"%Elongation-pred\")\n",
    "plt.legend()\n",
    "plt.show()\n"
   ]
  },
  {
   "cell_type": "markdown",
   "id": "ae6b3998",
   "metadata": {},
   "source": [
    "## Checking feature importances of the model"
   ]
  },
  {
   "cell_type": "code",
   "execution_count": 55,
   "id": "55af4cfa",
   "metadata": {},
   "outputs": [
    {
     "data": {
      "text/plain": [
       "3"
      ]
     },
     "execution_count": 55,
     "metadata": {},
     "output_type": "execute_result"
    }
   ],
   "source": [
    "len(model.estimators_)"
   ]
  },
  {
   "cell_type": "code",
   "execution_count": 56,
   "id": "54b79047",
   "metadata": {},
   "outputs": [
    {
     "data": {
      "text/plain": [
       "Index(['Cr', 'Ni', 'Mo', 'Mn', 'Si', 'Cu', 'N', 'C', 'P', 'S', 'Temperature'], dtype='object')"
      ]
     },
     "execution_count": 56,
     "metadata": {},
     "output_type": "execute_result"
    }
   ],
   "source": [
    "X.columns"
   ]
  },
  {
   "cell_type": "code",
   "execution_count": 57,
   "id": "dd3a41f1",
   "metadata": {},
   "outputs": [
    {
     "data": {
      "text/plain": [
       "Text(0.5, 1.0, 'YS')"
      ]
     },
     "execution_count": 57,
     "metadata": {},
     "output_type": "execute_result"
    },
    {
     "data": {
      "image/png": "[encoded data removed]",
      "text/plain": [
       "<Figure size 432x288 with 1 Axes>"
      ]
     },
     "metadata": {
      "needs_background": "light"
     },
     "output_type": "display_data"
    }
   ],
   "source": [
    "plt.barh(X_train.columns,model.estimators_[0].feature_importances_,color='red')\n",
    "plt.title('YS',fontsize=15)"
   ]
  },
  {
   "cell_type": "code",
   "execution_count": 58,
   "id": "68cc67eb",
   "metadata": {},
   "outputs": [],
   "source": [
    "ys_feature=model.estimators_[1].feature_importances_\n"
   ]
  },
  {
   "cell_type": "code",
   "execution_count": 59,
   "id": "cfb39063",
   "metadata": {},
   "outputs": [
    {
     "data": {
      "text/plain": [
       "Text(0.5, 1.0, 'UTS')"
      ]
     },
     "execution_count": 59,
     "metadata": {},
     "output_type": "execute_result"
    },
    {
     "data": {
      "image/png": "[encoded data removed]",
      "text/plain": [
       "<Figure size 432x288 with 1 Axes>"
      ]
     },
     "metadata": {
      "needs_background": "light"
     },
     "output_type": "display_data"
    }
   ],
   "source": [
    "plt.barh(X_train.columns,model.estimators_[1].feature_importances_,color='red')\n",
    "plt.title(\"UTS\",fontsize=15)"
   ]
  },
  {
   "cell_type": "code",
   "execution_count": 60,
   "id": "45a702e1",
   "metadata": {},
   "outputs": [
    {
     "data": {
      "text/plain": [
       "Text(0.5, 1.0, 'Elongation')"
      ]
     },
     "execution_count": 60,
     "metadata": {},
     "output_type": "execute_result"
    },
    {
     "data": {
      "image/png": "[encoded data removed]",
      "text/plain": [
       "<Figure size 432x288 with 1 Axes>"
      ]
     },
     "metadata": {
      "needs_background": "light"
     },
     "output_type": "display_data"
    }
   ],
   "source": [
    "plt.barh(X_train.columns,model.estimators_[2].feature_importances_,color='red')\n",
    "plt.title(\"Elongation\",fontsize=15)"
   ]
  },
  {
   "cell_type": "markdown",
   "id": "4cb9c368",
   "metadata": {},
   "source": [
    "# Hyperparameter tuning and Cross Validation "
   ]
  },
  {
   "cell_type": "code",
   "execution_count": 61,
   "id": "f9b2ed43",
   "metadata": {},
   "outputs": [],
   "source": [
    "from sklearn.model_selection import RandomizedSearchCV\n",
    "# Number of trees in random forest\n",
    "n_estimators = [x for x in range(100,120,2)]\n",
    "learning_rate=[ x for x in np.arange(0.1,0.3,0.02)]\n",
    "# Maximum number of levels in tree\n",
    "max_depth = [x for x in range(2,12,1)]\n",
    "max_depth.append(None)\n",
    "# Create the random grid\n",
    "param_grid = {'estimator__learning_rate':[x for x in np.arange(0.1,0.3,0.1)],\n",
    "              'estimator__n_estimators':[x for x in range(100,1000,10)],\n",
    "               'estimator__max_depth':[x for x in range(4,15,1)],\n",
    "             }\n",
    "            "
   ]
  },
  {
   "cell_type": "code",
   "execution_count": 62,
   "id": "a3cf23e2",
   "metadata": {},
   "outputs": [],
   "source": [
    " #Use the random grid to search for best hyperparameters\n",
    "# First create the base model to tune\n",
    "rf = MultiOutputRegressor(xgb.XGBRegressor(objective='reg:squarederror'))\n",
    "# Random search of parameters, using 3 fold cross validation, \n",
    "# search across 100 different combinations, and use all available cores\n",
    "rm = RandomizedSearchCV(rf, param_distributions =param_grid , \n",
    "                  n_jobs=2, cv=5,random_state=42, return_train_score=True)\n",
    "tuned=rm.fit(X_train, y_train)"
   ]
  },
  {
   "cell_type": "code",
   "execution_count": 63,
   "id": "6522a1d2",
   "metadata": {},
   "outputs": [
    {
     "data": {
      "text/plain": [
       "{'estimator__n_estimators': 410,\n",
       " 'estimator__max_depth': 5,\n",
       " 'estimator__learning_rate': 0.1}"
      ]
     },
     "execution_count": 63,
     "metadata": {},
     "output_type": "execute_result"
    }
   ],
   "source": [
    "tuned.best_params_"
   ]
  },
  {
   "cell_type": "code",
   "execution_count": 64,
   "id": "b93497c8",
   "metadata": {},
   "outputs": [
    {
     "data": {
      "text/plain": [
       "0.9311468414255925"
      ]
     },
     "execution_count": 64,
     "metadata": {},
     "output_type": "execute_result"
    }
   ],
   "source": [
    "tuned.score(X_test,y_test)"
   ]
  },
  {
   "cell_type": "code",
   "execution_count": 65,
   "id": "2b98f7be",
   "metadata": {},
   "outputs": [],
   "source": [
    "r2=tuned.score(X_test,y_test)\n",
    "r2_training=tuned.score(X_train,y_train)\n",
    "\n",
    "rmse_total=np.sqrt(MSE(y_test, y_pred))"
   ]
  },
  {
   "cell_type": "code",
   "execution_count": 66,
   "id": "1bc45d25",
   "metadata": {},
   "outputs": [
    {
     "data": {
      "text/html": [
       "<div>\n",
       "<style scoped>\n",
       "    .dataframe tbody tr th:only-of-type {\n",
       "        vertical-align: middle;\n",
       "    }\n",
       "\n",
       "    .dataframe tbody tr th {\n",
       "        vertical-align: top;\n",
       "    }\n",
       "\n",
       "    .dataframe thead th {\n",
       "        text-align: right;\n",
       "    }\n",
       "</style>\n",
       "<table border=\"1\" class=\"dataframe\">\n",
       "  <thead>\n",
       "    <tr style=\"text-align: right;\">\n",
       "      <th></th>\n",
       "      <th>model</th>\n",
       "      <th>Testing r2 score</th>\n",
       "      <th>Training r2 score</th>\n",
       "      <th>RMSE</th>\n",
       "    </tr>\n",
       "  </thead>\n",
       "  <tbody>\n",
       "    <tr>\n",
       "      <th>0</th>\n",
       "      <td>Xgboost</td>\n",
       "      <td>0.931147</td>\n",
       "      <td>0.981423</td>\n",
       "      <td>11.679164</td>\n",
       "    </tr>\n",
       "  </tbody>\n",
       "</table>\n",
       "</div>"
      ],
      "text/plain": [
       "     model  Testing r2 score  Training r2 score       RMSE\n",
       "0  Xgboost          0.931147           0.981423  11.679164"
      ]
     },
     "execution_count": 66,
     "metadata": {},
     "output_type": "execute_result"
    }
   ],
   "source": [
    "summary=pd.DataFrame(data=[[\"Xgboost\",r2,r2_training,rmse_total]],columns=['model','Testing r2 score','Training r2 score',\n",
    "                                                                                   'RMSE'])\n",
    "summary"
   ]
  },
  {
   "cell_type": "markdown",
   "id": "afa699a9",
   "metadata": {},
   "source": [
    "### Lets print out individual output MSE and RMSE"
   ]
  },
  {
   "cell_type": "code",
   "execution_count": 72,
   "id": "521190fc",
   "metadata": {},
   "outputs": [
    {
     "name": "stdout",
     "output_type": "stream",
     "text": [
      "MEAN SQUARED ERRORS FOR INDIVIDUAL OUTPUT\n",
      "0.2%proof_stress (M Pa)    148.206284\n",
      "UTS (M Pa)                 205.660065\n",
      "Elongation                   7.385191\n",
      "dtype: float32\n"
     ]
    }
   ],
   "source": [
    "mse=np.mean((y_test-tuned.predict(X_test))**2, axis=0)\n",
    "rmse=np.sqrt(np.mean((y_test-tuned.predict(X_test))**2, axis=0))\n",
    "print('MEAN SQUARED ERRORS FOR INDIVIDUAL OUTPUT')\n",
    "print(mse)\n"
   ]
  },
  {
   "cell_type": "code",
   "execution_count": 71,
   "id": "f749bde6",
   "metadata": {},
   "outputs": [
    {
     "name": "stdout",
     "output_type": "stream",
     "text": [
      "RMSE for individual outputs\n",
      "0.2%proof_stress (M Pa)    13.775794\n",
      "UTS (M Pa)                 14.572916\n",
      "Elongation                  2.658244\n",
      "dtype: float32\n"
     ]
    }
   ],
   "source": [
    "print('RMSE for individual outputs')\n",
    "print(rmse)"
   ]
  },
  {
   "cell_type": "markdown",
   "id": "f0089f83",
   "metadata": {},
   "source": [
    "# END"
   ]
  },
  {
   "cell_type": "code",
   "execution_count": 69,
   "id": "7fa1d015",
   "metadata": {},
   "outputs": [],
   "source": [
    "# Feature analysis:Feature Importance "
   ]
  },
  {
   "cell_type": "code",
   "execution_count": null,
   "id": "6f141725",
   "metadata": {},
   "outputs": [],
   "source": []
  }
 ],
 "metadata": {
  "kernelspec": {
   "display_name": "Python 3 (ipykernel)",
   "language": "python",
   "name": "python3"
  },
  "language_info": {
   "codemirror_mode": {
    "name": "ipython",
    "version": 3
   },
   "file_extension": ".py",
   "mimetype": "text/x-python",
   "name": "python",
   "nbconvert_exporter": "python",
   "pygments_lexer": "ipython3",
   "version": "3.9.0"
  }
 },
 "nbformat": 4,
 "nbformat_minor": 5
}
